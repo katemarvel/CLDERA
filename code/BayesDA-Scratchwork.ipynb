{
 "cells": [
  {
   "cell_type": "code",
   "execution_count": null,
   "id": "immediate-local",
   "metadata": {},
   "outputs": [],
   "source": []
  },
  {
   "cell_type": "code",
   "execution_count": 29,
   "id": "suspected-latin",
   "metadata": {},
   "outputs": [],
   "source": [
    "import pymc3 as pm\n",
    "import arviz as az\n",
    "import theano.tensor as tt\n",
    "import numpy as np\n",
    "import matplotlib.pyplot as plt\n",
    "import cdms2 as cdms\n",
    "import MV2 as mv\n",
    "import sys, os, glob\n",
    "import cdutil,cdtime,genutil\n",
    "import pandas as pd\n",
    "import seaborn as sns\n",
    "import matplotlib.cm as cm\n",
    "from pymc3.distributions import Interpolated\n",
    "from scipy import stats\n",
    "import xarray as xr\n",
    "import scipy.special as special\n",
    "#Impose uniform color scheme\n",
    "def get_colors(forcing):\n",
    "    colors={}\n",
    "    colors[\"GHG\"]=cm.tab10(2)\n",
    "    colors[\"aer\"]=cm.tab10(1)\n",
    "    colors[\"nat\"]=cm.tab10(3)\n",
    "    colors[\"historical\"]=\"k\"\n",
    "    colors[\"other\"]=cm.tab10(4)\n",
    "    colors[\"obs\"]=cm.tab10(0)\n",
    "    return colors[forcing]\n",
    "\n",
    "## Function to turn posterior density into prior \n",
    "##(from https://docs.pymc.io/en/v3/pymc-examples/examples/pymc3_howto/updating_priors.html)\n",
    "def from_posterior(param, samples):\n",
    "    smin, smax = np.min(samples), np.max(samples)\n",
    "    width = smax - smin\n",
    "    x = np.linspace(smin, smax, 100)\n",
    "    y = stats.gaussian_kde(samples)(x)\n",
    "\n",
    "    # what was never sampled should have a small probability but not 0,\n",
    "    # so we'll extend the domain and use linear approximation of density on it\n",
    "    x = np.concatenate([[x[0] - 3 * width], x, [x[-1] + 3 * width]])\n",
    "    y = np.concatenate([[0], y, [0]])\n",
    "    return Interpolated(param, x, y)"
   ]
  },
  {
   "cell_type": "markdown",
   "id": "enormous-assessment",
   "metadata": {},
   "source": [
    "# Specify the base period"
   ]
  },
  {
   "cell_type": "code",
   "execution_count": 30,
   "id": "alert-failure",
   "metadata": {},
   "outputs": [],
   "source": [
    "base_start=1900\n",
    "base_stop=1950\n",
    "base_period=(str(base_start)+\"-1-1\",str(base_stop)+\"-1-1\")"
   ]
  },
  {
   "cell_type": "markdown",
   "id": "loved-essex",
   "metadata": {},
   "source": [
    "Read in GISTEMP data"
   ]
  },
  {
   "cell_type": "code",
   "execution_count": 3,
   "id": "worse-islam",
   "metadata": {},
   "outputs": [],
   "source": [
    "df=pd.read_csv(\"https://data.giss.nasa.gov/gistemp/tabledata_v4/GLB.Ts+dSST.csv\",skiprows=[0])\n"
   ]
  },
  {
   "cell_type": "code",
   "execution_count": 4,
   "id": "hearing-people",
   "metadata": {},
   "outputs": [],
   "source": [
    "allyears=df[\"Year\"].values[:-1]\n",
    "dat=df[\"J-D\"].values[:-1].astype(float)\n",
    "y=allyears[:int(np.where(allyears==2015)[0])]\n",
    "gistemp=dat[:int(np.where(allyears==2015)[0])]\n",
    "\n",
    "istart=int(np.where(allyears==base_start)[0])\n",
    "istop=int(np.where(allyears==base_stop)[0])\n",
    "\n",
    "gistemp_clim=np.average(gistemp[istart:istop+1])\n",
    "gistemp=gistemp-gistemp_clim\n"
   ]
  },
  {
   "cell_type": "markdown",
   "id": "european-construction",
   "metadata": {},
   "source": [
    "# Read in in GISS data "
   ]
  },
  {
   "cell_type": "code",
   "execution_count": 5,
   "id": "basic-enzyme",
   "metadata": {},
   "outputs": [],
   "source": [
    "annual=True\n",
    "if annual:\n",
    "    func=lambda x: cdutil.YEAR(x)\n",
    "    \n",
    "else:\n",
    "    func = lambda x:x\n",
    "#Read in the simulation data\n",
    "direc=\"../GISS_SINGLE_FORCING/\"\n",
    "\n",
    "GISS_simulations={}\n",
    "for experiment in [x.split(\".nc\")[0] for x in os.listdir(direc)]:\n",
    "    \n",
    "    f=cdms.open(direc+experiment+\".nc\")\n",
    "    try:\n",
    "        ensemble=f(\"tas\")#(time=(\"1880-1-1\",\"2014-12-31\"))\n",
    "    except:\n",
    "        ensemble=f('variable_12842')#(time=(\"1880-1-1\",\"2014-12-31\")) #kludge: forgot to label the piControl global mean anomalies as tas\n",
    "    f.close()\n",
    "    if experiment != \"piControl\":\n",
    "        \n",
    "        data=func(ensemble)(time=(\"1880-1-1\",\"2014-12-31\"))\n",
    "        climatology=np.average(data(time=base_period))\n",
    "        GISS_simulations[experiment]=data-climatology\n",
    "    else:\n",
    "        GISS_simulations[experiment]=func(ensemble)\n",
    "        \n",
    "#split picontrol into chunks\n",
    "nmembers,nt=GISS_simulations[\"historical\"].shape\n",
    "t=np.arange(nt)+1850\n",
    "piC=GISS_simulations[\"piControl\"]\n",
    "nt_piC=len(piC)\n",
    "nchunks=int(nt_piC/nt)\n",
    "piC_ensemble=piC[:nchunks*nt].reshape(nchunks,nt)\n",
    "GISS_simulations[\"piControl\"]=piC_ensemble\n",
    "GISS_simulations[\"piControl_concatenated\"]=piC"
   ]
  },
  {
   "cell_type": "code",
   "execution_count": 6,
   "id": "incomplete-mediterranean",
   "metadata": {},
   "outputs": [],
   "source": [
    "#Learning the forced signal from observations, no models\n",
    "with pm.Model() as learnmodel:\n",
    "    μ=pm.Normal(\"μ\",0,10,shape=nt)\n",
    "    σ=pm.HalfNormal(\"σ\",10)\n",
    "    obs=pm.Normal(\"obs\",mu=μ,sigma=σ,observed=gistemp)"
   ]
  },
  {
   "cell_type": "code",
   "execution_count": 7,
   "id": "earned-stable",
   "metadata": {},
   "outputs": [
    {
     "name": "stderr",
     "output_type": "stream",
     "text": [
      "Auto-assigning NUTS sampler...\n",
      "Initializing NUTS using jitter+adapt_diag...\n",
      "Multiprocess sampling (4 chains in 4 jobs)\n",
      "NUTS: [σ, μ]\n"
     ]
    },
    {
     "data": {
      "text/html": [
       "\n",
       "    <div>\n",
       "        <style>\n",
       "            /* Turns off some styling */\n",
       "            progress {\n",
       "                /* gets rid of default border in Firefox and Opera. */\n",
       "                border: none;\n",
       "                /* Needs to be in here for Safari polyfill so background images work as expected. */\n",
       "                background-size: auto;\n",
       "            }\n",
       "            .progress-bar-interrupted, .progress-bar-interrupted::-webkit-progress-bar {\n",
       "                background: #F44336;\n",
       "            }\n",
       "        </style>\n",
       "      <progress value='8000' class='' max='8000' style='width:300px; height:20px; vertical-align: middle;'></progress>\n",
       "      100.00% [8000/8000 00:07<00:00 Sampling 4 chains, 535 divergences]\n",
       "    </div>\n",
       "    "
      ],
      "text/plain": [
       "<IPython.core.display.HTML object>"
      ]
     },
     "metadata": {},
     "output_type": "display_data"
    },
    {
     "name": "stderr",
     "output_type": "stream",
     "text": [
      "Sampling 4 chains for 1_000 tune and 1_000 draw iterations (4_000 + 4_000 draws total) took 27 seconds.\n",
      "There were 43 divergences after tuning. Increase `target_accept` or reparameterize.\n",
      "The acceptance probability does not match the target. It is 0.6250037676206851, but should be close to 0.8. Try to increase the number of tuning steps.\n",
      "There were 170 divergences after tuning. Increase `target_accept` or reparameterize.\n",
      "The acceptance probability does not match the target. It is 0.4422033139478865, but should be close to 0.8. Try to increase the number of tuning steps.\n",
      "There were 321 divergences after tuning. Increase `target_accept` or reparameterize.\n",
      "The acceptance probability does not match the target. It is 0.6796512334430179, but should be close to 0.8. Try to increase the number of tuning steps.\n",
      "There was 1 divergence after tuning. Increase `target_accept` or reparameterize.\n",
      "The acceptance probability does not match the target. It is 0.695814332981812, but should be close to 0.8. Try to increase the number of tuning steps.\n",
      "The rhat statistic is larger than 1.2 for some parameters.\n",
      "The estimated number of effective samples is smaller than 200 for some parameters.\n"
     ]
    }
   ],
   "source": [
    "with learnmodel:\n",
    "    learntrace=pm.sample(return_inferencedata=True)"
   ]
  },
  {
   "cell_type": "code",
   "execution_count": 8,
   "id": "liked-dallas",
   "metadata": {},
   "outputs": [
    {
     "data": {
      "image/svg+xml": [
       "<?xml version=\"1.0\" encoding=\"UTF-8\" standalone=\"no\"?>\n",
       "<!DOCTYPE svg PUBLIC \"-//W3C//DTD SVG 1.1//EN\"\n",
       " \"http://www.w3.org/Graphics/SVG/1.1/DTD/svg11.dtd\">\n",
       "<!-- Generated by graphviz version 2.42.3 (20191010.1750)\n",
       " -->\n",
       "<!-- Title: %3 Pages: 1 -->\n",
       "<svg width=\"244pt\" height=\"239pt\"\n",
       " viewBox=\"0.00 0.00 244.14 239.42\" xmlns=\"http://www.w3.org/2000/svg\" xmlns:xlink=\"http://www.w3.org/1999/xlink\">\n",
       "<g id=\"graph0\" class=\"graph\" transform=\"scale(1 1) rotate(0) translate(4 235.42)\">\n",
       "<title>%3</title>\n",
       "<polygon fill=\"white\" stroke=\"transparent\" points=\"-4,4 -4,-235.42 240.14,-235.42 240.14,4 -4,4\"/>\n",
       "<g id=\"clust1\" class=\"cluster\">\n",
       "<title>cluster135</title>\n",
       "<path fill=\"none\" stroke=\"black\" d=\"M20,-8C20,-8 96,-8 96,-8 102,-8 108,-14 108,-20 108,-20 108,-211.42 108,-211.42 108,-217.42 102,-223.42 96,-223.42 96,-223.42 20,-223.42 20,-223.42 14,-223.42 8,-217.42 8,-211.42 8,-211.42 8,-20 8,-20 8,-14 14,-8 20,-8\"/>\n",
       "<text text-anchor=\"middle\" x=\"89.5\" y=\"-14.8\" font-family=\"Times,serif\" font-size=\"14.00\">135</text>\n",
       "</g>\n",
       "<!-- obs -->\n",
       "<g id=\"node1\" class=\"node\">\n",
       "<title>obs</title>\n",
       "<ellipse fill=\"lightgrey\" stroke=\"black\" cx=\"58\" cy=\"-73.36\" rx=\"41.61\" ry=\"35.21\"/>\n",
       "<text text-anchor=\"middle\" x=\"58\" y=\"-83.16\" font-family=\"Times,serif\" font-size=\"14.00\">obs</text>\n",
       "<text text-anchor=\"middle\" x=\"58\" y=\"-69.16\" font-family=\"Times,serif\" font-size=\"14.00\">~</text>\n",
       "<text text-anchor=\"middle\" x=\"58\" y=\"-55.16\" font-family=\"Times,serif\" font-size=\"14.00\">Normal</text>\n",
       "</g>\n",
       "<!-- μ -->\n",
       "<g id=\"node2\" class=\"node\">\n",
       "<title>μ</title>\n",
       "<ellipse fill=\"none\" stroke=\"black\" cx=\"58\" cy=\"-180.07\" rx=\"41.61\" ry=\"35.21\"/>\n",
       "<text text-anchor=\"middle\" x=\"58\" y=\"-189.87\" font-family=\"Times,serif\" font-size=\"14.00\">μ</text>\n",
       "<text text-anchor=\"middle\" x=\"58\" y=\"-175.87\" font-family=\"Times,serif\" font-size=\"14.00\">~</text>\n",
       "<text text-anchor=\"middle\" x=\"58\" y=\"-161.87\" font-family=\"Times,serif\" font-size=\"14.00\">Normal</text>\n",
       "</g>\n",
       "<!-- μ&#45;&gt;obs -->\n",
       "<g id=\"edge2\" class=\"edge\">\n",
       "<title>μ&#45;&gt;obs</title>\n",
       "<path fill=\"none\" stroke=\"black\" d=\"M58,-144.49C58,-136.36 58,-127.58 58,-119.07\"/>\n",
       "<polygon fill=\"black\" stroke=\"black\" points=\"61.5,-118.9 58,-108.9 54.5,-118.9 61.5,-118.9\"/>\n",
       "</g>\n",
       "<!-- σ -->\n",
       "<g id=\"node3\" class=\"node\">\n",
       "<title>σ</title>\n",
       "<ellipse fill=\"none\" stroke=\"black\" cx=\"177\" cy=\"-180.07\" rx=\"59.29\" ry=\"35.21\"/>\n",
       "<text text-anchor=\"middle\" x=\"177\" y=\"-189.87\" font-family=\"Times,serif\" font-size=\"14.00\">σ</text>\n",
       "<text text-anchor=\"middle\" x=\"177\" y=\"-175.87\" font-family=\"Times,serif\" font-size=\"14.00\">~</text>\n",
       "<text text-anchor=\"middle\" x=\"177\" y=\"-161.87\" font-family=\"Times,serif\" font-size=\"14.00\">HalfNormal</text>\n",
       "</g>\n",
       "<!-- σ&#45;&gt;obs -->\n",
       "<g id=\"edge1\" class=\"edge\">\n",
       "<title>σ&#45;&gt;obs</title>\n",
       "<path fill=\"none\" stroke=\"black\" d=\"M144.48,-150.45C128.87,-136.72 110.11,-120.21 94.06,-106.09\"/>\n",
       "<polygon fill=\"black\" stroke=\"black\" points=\"96.25,-103.35 86.43,-99.37 91.62,-108.6 96.25,-103.35\"/>\n",
       "</g>\n",
       "</g>\n",
       "</svg>\n"
      ],
      "text/plain": [
       "<graphviz.dot.Digraph at 0x16f5d9910>"
      ]
     },
     "execution_count": 8,
     "metadata": {},
     "output_type": "execute_result"
    }
   ],
   "source": [
    "dot=pm.model_graph.model_to_graphviz(learnmodel)\n",
    "dot\n",
    "#dot.render(filename=\"learnmodel\",directory='../TALK/',) "
   ]
  },
  {
   "cell_type": "code",
   "execution_count": null,
   "id": "balanced-conditioning",
   "metadata": {},
   "outputs": [],
   "source": []
  },
  {
   "cell_type": "markdown",
   "id": "comfortable-printing",
   "metadata": {},
   "source": [
    "What can we infer about the forced response if we don't assume anything other than white noise?"
   ]
  },
  {
   "cell_type": "code",
   "execution_count": 9,
   "id": "satellite-assembly",
   "metadata": {},
   "outputs": [
    {
     "data": {
      "image/png": "[encoded data removed]",
      "text/plain": [
       "<Figure size 504x482.4 with 2 Axes>"
      ]
     },
     "metadata": {
      "needs_background": "light"
     },
     "output_type": "display_data"
    }
   ],
   "source": [
    "plt.figure(figsize=(7.0,6.7))\n",
    "plt.subplot(211)\n",
    "plt.plot(y,gistemp,label=\"GISTEMP\")\n",
    "plt.ylabel(r\"$\\Delta T \\, (^{\\circ}$C)\")\n",
    "plt.plot(y,np.average(GISS_simulations[\"historical\"].asma(),axis=0),c=\"k\",label=\"GISS historical ensemble average\")\n",
    "\n",
    "plt.plot(y,GISS_simulations[\"historical\"][0].asma(),c=\"k\",lw=.5,alpha=.3,label=\"GISS historical ensemble members\")\n",
    "tmp=[plt.plot(y,sim.asma(),c=\"k\",lw=.5,alpha=.3) for sim in GISS_simulations[\"historical\"][1:]]\n",
    "plt.legend()\n",
    "\n",
    "plt.subplot(212)\n",
    "az.plot_hdi(y,learntrace.posterior.μ,smooth=False,hdi_prob=.90,color=cm.Blues(.3))\n",
    "\n",
    "az.plot_hdi(y,learntrace.posterior.μ,smooth=False,hdi_prob=.66,color=cm.Blues(.9))\n",
    "\n",
    "plt.plot(y,gistemp,label=\"GISTEMP\")\n",
    "tmp1,=plt.plot([1900],[0],color=cm.Blues(.3),label=\"μ (90% HDI)\")\n",
    "tmp2,=plt.plot([1900],[0],color=cm.Blues(.9),label=\"μ (66% HDI)\")\n",
    "plt.legend()\n",
    "tmp1.set_visible(False)\n",
    "tmp2.set_visible(False)\n",
    "\n",
    "plt.axhline(0,c=\"k\",ls=\":\")\n",
    "plt.xlabel(\"Time\")\n",
    "plt.ylabel(r\"$\\Delta T \\, (^{\\circ}$C)\")\n",
    "\n",
    "plt.savefig(\"Figure1.pdf\")"
   ]
  },
  {
   "cell_type": "code",
   "execution_count": 10,
   "id": "brown-operator",
   "metadata": {},
   "outputs": [
    {
     "data": {
      "text/plain": [
       "array([2002, 2003, 2007, 2010, 2013, 2014])"
      ]
     },
     "execution_count": 10,
     "metadata": {},
     "output_type": "execute_result"
    }
   ],
   "source": [
    "y[np.where(az.hdi(learntrace.posterior.μ,hdi_prob=.66).μ[:,0]>0)[0]]"
   ]
  },
  {
   "cell_type": "markdown",
   "id": "continued-heading",
   "metadata": {},
   "source": [
    "# No uncertainty in forced response\n",
    "Now, suppose the ensemble average of model simulations is the exact searched-for fingerprint:"
   ]
  },
  {
   "cell_type": "code",
   "execution_count": 11,
   "id": "cultural-officer",
   "metadata": {},
   "outputs": [],
   "source": [
    "#Simplest model: suppose we know forcing exactly\n",
    "with pm.Model() as simplemodel:\n",
    "    β=pm.Normal(\"β\",0,10)\n",
    "    σ=pm.HalfNormal(\"σ\",10)\n",
    "    μ=np.average( GISS_simulations[\"historical\"],axis=0)\n",
    "    μ_obs=β*μ\n",
    "    obs=pm.Normal(\"obs\",mu=μ_obs,sigma=σ,observed=gistemp)"
   ]
  },
  {
   "cell_type": "code",
   "execution_count": 12,
   "id": "active-potter",
   "metadata": {},
   "outputs": [
    {
     "name": "stderr",
     "output_type": "stream",
     "text": [
      "Auto-assigning NUTS sampler...\n",
      "Initializing NUTS using jitter+adapt_diag...\n",
      "Multiprocess sampling (4 chains in 4 jobs)\n",
      "NUTS: [σ, β]\n"
     ]
    },
    {
     "data": {
      "text/html": [
       "\n",
       "    <div>\n",
       "        <style>\n",
       "            /* Turns off some styling */\n",
       "            progress {\n",
       "                /* gets rid of default border in Firefox and Opera. */\n",
       "                border: none;\n",
       "                /* Needs to be in here for Safari polyfill so background images work as expected. */\n",
       "                background-size: auto;\n",
       "            }\n",
       "            .progress-bar-interrupted, .progress-bar-interrupted::-webkit-progress-bar {\n",
       "                background: #F44336;\n",
       "            }\n",
       "        </style>\n",
       "      <progress value='8000' class='' max='8000' style='width:300px; height:20px; vertical-align: middle;'></progress>\n",
       "      100.00% [8000/8000 00:03<00:00 Sampling 4 chains, 0 divergences]\n",
       "    </div>\n",
       "    "
      ],
      "text/plain": [
       "<IPython.core.display.HTML object>"
      ]
     },
     "metadata": {},
     "output_type": "display_data"
    },
    {
     "name": "stderr",
     "output_type": "stream",
     "text": [
      "Sampling 4 chains for 1_000 tune and 1_000 draw iterations (4_000 + 4_000 draws total) took 19 seconds.\n"
     ]
    }
   ],
   "source": [
    "with simplemodel:\n",
    "    simpletrace=pm.sample(return_inferencedata=True)"
   ]
  },
  {
   "cell_type": "code",
   "execution_count": 13,
   "id": "american-terrain",
   "metadata": {},
   "outputs": [
    {
     "data": {
      "text/plain": [
       "<AxesSubplot:title={'center':'x'}>"
      ]
     },
     "execution_count": 13,
     "metadata": {},
     "output_type": "execute_result"
    },
    {
     "data": {
      "image/png": "[encoded data removed]",
      "text/plain": [
       "<Figure size 432x288 with 1 Axes>"
      ]
     },
     "metadata": {
      "needs_background": "light"
     },
     "output_type": "display_data"
    }
   ],
   "source": [
    "tst=pm.sample_prior_predictive(samples=5000,model=simplemodel,var_names=[\"β\",\"σ\"])\n",
    "az.plot_posterior(tst[\"σ\"])"
   ]
  },
  {
   "cell_type": "code",
   "execution_count": 14,
   "id": "traditional-brake",
   "metadata": {},
   "outputs": [
    {
     "data": {
      "image/png": "[encoded data removed]",
      "text/plain": [
       "<Figure size 432x288 with 1 Axes>"
      ]
     },
     "metadata": {
      "needs_background": "light"
     },
     "output_type": "display_data"
    }
   ],
   "source": [
    "tmp=plt.hist(tst[\"σ\"],100,density=True)\n",
    "tmp=plt.hist(simpletrace.posterior.σ.values.flatten(),100,density=True)\n"
   ]
  },
  {
   "cell_type": "markdown",
   "id": "documentary-salem",
   "metadata": {},
   "source": [
    "Posteriors on the scaling factor and internal variability"
   ]
  },
  {
   "cell_type": "code",
   "execution_count": 15,
   "id": "signed-staff",
   "metadata": {},
   "outputs": [
    {
     "data": {
      "image/png": "[encoded data removed]",
      "text/plain": [
       "<Figure size 993.6x331.2 with 2 Axes>"
      ]
     },
     "metadata": {
      "needs_background": "light"
     },
     "output_type": "display_data"
    }
   ],
   "source": [
    "axes=az.plot_posterior(simpletrace,var_names=[\"σ\",\"β\"],kind=\"hist\",hdi_prob=.9)\n",
    "axes[0].set_title(\"Posterior distribution for internal variability σ\")\n",
    "axes[1].set_title(\"Posterior distribution for scaling factor β\")\n",
    "#az.plot_posterior(tst[\"σ\"],ax=axes[0])\n",
    "plt.savefig(\"../BayesDA/FIGS/Figure2.pdf\")"
   ]
  },
  {
   "cell_type": "code",
   "execution_count": 16,
   "id": "looking-summary",
   "metadata": {},
   "outputs": [
    {
     "data": {
      "image/png": "[encoded data removed]",
      "text/plain": [
       "<Figure size 432x288 with 1 Axes>"
      ]
     },
     "metadata": {
      "needs_background": "light"
     },
     "output_type": "display_data"
    }
   ],
   "source": [
    "tmp=plt.hist(np.random.normal(0,10,100000),density=True)"
   ]
  },
  {
   "cell_type": "markdown",
   "id": "configured-reservoir",
   "metadata": {},
   "source": [
    "# Incorporating piControl information\n",
    " First, we use chunks of piControl to train the noise model, fitting posteriors to $\\sigma$."
   ]
  },
  {
   "cell_type": "code",
   "execution_count": 17,
   "id": "operational-manual",
   "metadata": {},
   "outputs": [
    {
     "data": {
      "text/plain": [
       "Text(0, 0.5, '$\\\\Delta T \\\\, (^{\\\\circ}$C)')"
      ]
     },
     "execution_count": 17,
     "metadata": {},
     "output_type": "execute_result"
    },
    {
     "data": {
      "image/png": "[encoded data removed]",
      "text/plain": [
       "<Figure size 432x288 with 1 Axes>"
      ]
     },
     "metadata": {
      "needs_background": "light"
     },
     "output_type": "display_data"
    }
   ],
   "source": [
    "nenspic,ntpic=GISS_simulations[\"piControl\"].shape\n",
    "for i in range(nenspic):\n",
    "    timeax=np.arange(ntpic)+i*ntpic\n",
    "    plt.plot(timeax,GISS_simulations[\"piControl\"][i].asma(),color=cm.PuBu(float(i+1)/nenspic))\n",
    "plt.ylabel(r\"$\\Delta T \\, (^{\\circ}$C)\")"
   ]
  },
  {
   "cell_type": "code",
   "execution_count": 18,
   "id": "geographic-given",
   "metadata": {},
   "outputs": [
    {
     "name": "stderr",
     "output_type": "stream",
     "text": [
      "Auto-assigning NUTS sampler...\n",
      "Initializing NUTS using jitter+adapt_diag...\n",
      "Multiprocess sampling (4 chains in 4 jobs)\n",
      "NUTS: [σ]\n"
     ]
    },
    {
     "data": {
      "text/html": [
       "\n",
       "    <div>\n",
       "        <style>\n",
       "            /* Turns off some styling */\n",
       "            progress {\n",
       "                /* gets rid of default border in Firefox and Opera. */\n",
       "                border: none;\n",
       "                /* Needs to be in here for Safari polyfill so background images work as expected. */\n",
       "                background-size: auto;\n",
       "            }\n",
       "            .progress-bar-interrupted, .progress-bar-interrupted::-webkit-progress-bar {\n",
       "                background: #F44336;\n",
       "            }\n",
       "        </style>\n",
       "      <progress value='8000' class='' max='8000' style='width:300px; height:20px; vertical-align: middle;'></progress>\n",
       "      100.00% [8000/8000 00:42<00:00 Sampling 4 chains, 0 divergences]\n",
       "    </div>\n",
       "    "
      ],
      "text/plain": [
       "<IPython.core.display.HTML object>"
      ]
     },
     "metadata": {},
     "output_type": "display_data"
    },
    {
     "name": "stderr",
     "output_type": "stream",
     "text": [
      "Sampling 4 chains for 1_000 tune and 1_000 draw iterations (4_000 + 4_000 draws total) took 60 seconds.\n"
     ]
    }
   ],
   "source": [
    "#Use posteriors from model ensemble as priors for obs noise\n",
    "with pm.Model() as piCmodel:\n",
    "    σ=pm.HalfNormal(\"σ\",10)\n",
    "    cov=tt.pow(σ,2)*np.eye(nt)\n",
    "    F=pm.MvNormal(\"likelihood_piC\",mu=np.zeros(nt),cov=cov,\\\n",
    "                             observed= GISS_simulations[\"piControl\"])\n",
    "\n",
    "#This is a hack: need inferencedata object for az.compare, but I can't figure out how to make from_posterior() function work with inferencedata object.  Fix.\n",
    "with piCmodel:\n",
    "    piC_white_trace=pm.sample(return_inferencedata=False)"
   ]
  },
  {
   "cell_type": "markdown",
   "id": "revolutionary-madonna",
   "metadata": {},
   "source": [
    "### PiControl and historical data with uncertainty\n"
   ]
  },
  {
   "cell_type": "code",
   "execution_count": 19,
   "id": "interstate-fairy",
   "metadata": {},
   "outputs": [],
   "source": [
    "# Priors from piControl?\n",
    "with pm.Model() as histmodel_piC:\n",
    "    β=pm.Normal(\"β\",0,10)\n",
    "    γ=pm.HalfNormal(\"γ\",10)\n",
    "    σ=from_posterior(\"σ\",piC_white_trace[\"σ\"])\n",
    "    cov=tt.pow(γ*σ,2)*np.eye(nt)\n",
    "    \n",
    "    μ=pm.Normal(\"μ\",0,10,shape=nt)\n",
    "    #uncertain model forced response\n",
    "    F=pm.MvNormal(\"F\",mu=μ,cov=tt.pow(σ,2)*np.eye(nt),observed = GISS_simulations[\"historical\"])\n",
    "    μ_obs=β*μ\n",
    "    obs=pm.MvNormal(\"obs\",mu=μ_obs,cov=cov,observed=gistemp)"
   ]
  },
  {
   "cell_type": "markdown",
   "id": "harmful-quilt",
   "metadata": {},
   "source": [
    "# Compare noise-only and forced response models\n",
    "\n",
    "Why does white noise model have the correct log-likelihood shape (nsamp x nt) but red noise model has the wrong shape?"
   ]
  },
  {
   "cell_type": "code",
   "execution_count": 20,
   "id": "wound-korea",
   "metadata": {},
   "outputs": [
    {
     "name": "stderr",
     "output_type": "stream",
     "text": [
      "Auto-assigning NUTS sampler...\n",
      "Initializing NUTS using jitter+adapt_diag...\n",
      "Multiprocess sampling (4 chains in 4 jobs)\n",
      "NUTS: [μ, σGCM, γ, β]\n"
     ]
    },
    {
     "data": {
      "text/html": [
       "\n",
       "    <div>\n",
       "        <style>\n",
       "            /* Turns off some styling */\n",
       "            progress {\n",
       "                /* gets rid of default border in Firefox and Opera. */\n",
       "                border: none;\n",
       "                /* Needs to be in here for Safari polyfill so background images work as expected. */\n",
       "                background-size: auto;\n",
       "            }\n",
       "            .progress-bar-interrupted, .progress-bar-interrupted::-webkit-progress-bar {\n",
       "                background: #F44336;\n",
       "            }\n",
       "        </style>\n",
       "      <progress value='8000' class='' max='8000' style='width:300px; height:20px; vertical-align: middle;'></progress>\n",
       "      100.00% [8000/8000 00:13<00:00 Sampling 4 chains, 0 divergences]\n",
       "    </div>\n",
       "    "
      ],
      "text/plain": [
       "<IPython.core.display.HTML object>"
      ]
     },
     "metadata": {},
     "output_type": "display_data"
    },
    {
     "name": "stderr",
     "output_type": "stream",
     "text": [
      "Sampling 4 chains for 1_000 tune and 1_000 draw iterations (4_000 + 4_000 draws total) took 33 seconds.\n"
     ]
    }
   ],
   "source": [
    "# use piControl simultaneously\n",
    "with pm.Model() as simul_piC_white_model:\n",
    "    #Priors\n",
    "    β=pm.Normal(\"β\",0,10)\n",
    "    γ=pm.HalfNormal(\"γ\",10)\n",
    "    \n",
    "    σGCM = pm.HalfNormal(\"σGCM\",10)\n",
    "    μ=pm.Normal(\"μ\",0,10,shape=nt)\n",
    "    \n",
    "    #Train sigma gcm and mu on historical and piC\n",
    "    F=pm.Normal(\"F\",mu=μ,sigma=σGCM,\\\n",
    "                observed = GISS_simulations[\"historical\"])\n",
    "    piC=pm.Normal(\"likelihood_piC\",mu=np.zeros(nt),sigma=σGCM,\\\n",
    "                             observed= GISS_simulations[\"piControl\"])\n",
    "    μ_obs=β*μ\n",
    "    σ_obs=γ*σGCM\n",
    "    obs=pm.Normal(\"obs\",mu=μ_obs,sigma=σ_obs,observed=gistemp,shape=nt)\n",
    "with simul_piC_white_model:\n",
    "    whitetrace_withforcing=pm.sample(return_inferencedata=True)\n",
    "    "
   ]
  },
  {
   "cell_type": "code",
   "execution_count": 21,
   "id": "swiss-logging",
   "metadata": {},
   "outputs": [
    {
     "name": "stderr",
     "output_type": "stream",
     "text": [
      "Auto-assigning NUTS sampler...\n",
      "Initializing NUTS using jitter+adapt_diag...\n",
      "Multiprocess sampling (4 chains in 4 jobs)\n",
      "NUTS: [σGCM]\n"
     ]
    },
    {
     "data": {
      "text/html": [
       "\n",
       "    <div>\n",
       "        <style>\n",
       "            /* Turns off some styling */\n",
       "            progress {\n",
       "                /* gets rid of default border in Firefox and Opera. */\n",
       "                border: none;\n",
       "                /* Needs to be in here for Safari polyfill so background images work as expected. */\n",
       "                background-size: auto;\n",
       "            }\n",
       "            .progress-bar-interrupted, .progress-bar-interrupted::-webkit-progress-bar {\n",
       "                background: #F44336;\n",
       "            }\n",
       "        </style>\n",
       "      <progress value='8000' class='' max='8000' style='width:300px; height:20px; vertical-align: middle;'></progress>\n",
       "      100.00% [8000/8000 00:02<00:00 Sampling 4 chains, 0 divergences]\n",
       "    </div>\n",
       "    "
      ],
      "text/plain": [
       "<IPython.core.display.HTML object>"
      ]
     },
     "metadata": {},
     "output_type": "display_data"
    },
    {
     "name": "stderr",
     "output_type": "stream",
     "text": [
      "Sampling 4 chains for 1_000 tune and 1_000 draw iterations (4_000 + 4_000 draws total) took 21 seconds.\n",
      "The acceptance probability does not match the target. It is 0.8859689045780994, but should be close to 0.8. Try to increase the number of tuning steps.\n"
     ]
    }
   ],
   "source": [
    "with pm.Model() as whitemodel:\n",
    "    σ= pm.HalfNormal(\"σGCM\",10)\n",
    "    obs=pm.Normal(\"obs\",mu=np.zeros(nt),sigma=σ,observed=gistemp)\n",
    "with whitemodel:\n",
    "    whitetrace=pm.sample(return_inferencedata=True)"
   ]
  },
  {
   "cell_type": "code",
   "execution_count": 22,
   "id": "continued-lotus",
   "metadata": {},
   "outputs": [
    {
     "name": "stderr",
     "output_type": "stream",
     "text": [
      "Auto-assigning NUTS sampler...\n",
      "Initializing NUTS using jitter+adapt_diag...\n",
      "Multiprocess sampling (4 chains in 4 jobs)\n",
      "NUTS: [σ, coefs]\n"
     ]
    },
    {
     "data": {
      "text/html": [
       "\n",
       "    <div>\n",
       "        <style>\n",
       "            /* Turns off some styling */\n",
       "            progress {\n",
       "                /* gets rid of default border in Firefox and Opera. */\n",
       "                border: none;\n",
       "                /* Needs to be in here for Safari polyfill so background images work as expected. */\n",
       "                background-size: auto;\n",
       "            }\n",
       "            .progress-bar-interrupted, .progress-bar-interrupted::-webkit-progress-bar {\n",
       "                background: #F44336;\n",
       "            }\n",
       "        </style>\n",
       "      <progress value='8000' class='' max='8000' style='width:300px; height:20px; vertical-align: middle;'></progress>\n",
       "      100.00% [8000/8000 00:03<00:00 Sampling 4 chains, 0 divergences]\n",
       "    </div>\n",
       "    "
      ],
      "text/plain": [
       "<IPython.core.display.HTML object>"
      ]
     },
     "metadata": {},
     "output_type": "display_data"
    },
    {
     "name": "stderr",
     "output_type": "stream",
     "text": [
      "Sampling 4 chains for 1_000 tune and 1_000 draw iterations (4_000 + 4_000 draws total) took 18 seconds.\n",
      "The acceptance probability does not match the target. It is 0.8787680823616949, but should be close to 0.8. Try to increase the number of tuning steps.\n"
     ]
    }
   ],
   "source": [
    "with pm.Model() as redmodel:\n",
    "    coefs = pm.Normal(\"coefs\", 0,10)\n",
    "    σ= pm.HalfNormal(\"σ\",10)\n",
    "    obs=pm.AR(\"obs\",coefs,constant=False,sigma=σ,observed=gistemp,shape=nt)\n",
    "with redmodel:\n",
    "    redtrace=pm.sample(return_inferencedata=True)"
   ]
  },
  {
   "cell_type": "code",
   "execution_count": 31,
   "id": "arctic-surgeon",
   "metadata": {},
   "outputs": [
    {
     "ename": "NameError",
     "evalue": "name 'trace_hist_pic_ar1' is not defined",
     "output_type": "error",
     "traceback": [
      "\u001b[0;31m---------------------------------------------------------------------------\u001b[0m",
      "\u001b[0;31mNameError\u001b[0m                                 Traceback (most recent call last)",
      "\u001b[0;32m<ipython-input-31-28e809aa41f8>\u001b[0m in \u001b[0;36m<module>\u001b[0;34m\u001b[0m\n\u001b[0;32m----> 1\u001b[0;31m \u001b[0mFmean_ar1\u001b[0m\u001b[0;34m=\u001b[0m\u001b[0mtrace_hist_pic_ar1\u001b[0m\u001b[0;34m.\u001b[0m\u001b[0mposterior\u001b[0m\u001b[0;34m.\u001b[0m\u001b[0mμ\u001b[0m\u001b[0;34m.\u001b[0m\u001b[0mmean\u001b[0m\u001b[0;34m(\u001b[0m\u001b[0mdim\u001b[0m\u001b[0;34m=\u001b[0m\u001b[0;34m(\u001b[0m\u001b[0;34m\"chain\"\u001b[0m\u001b[0;34m,\u001b[0m\u001b[0;34m\"draw\"\u001b[0m\u001b[0;34m)\u001b[0m\u001b[0;34m)\u001b[0m\u001b[0;34m\u001b[0m\u001b[0;34m\u001b[0m\u001b[0m\n\u001b[0m\u001b[1;32m      2\u001b[0m \u001b[0msigmean_ar1\u001b[0m\u001b[0;34m=\u001b[0m\u001b[0mfloat\u001b[0m\u001b[0;34m(\u001b[0m\u001b[0mtrace_hist_pic_ar1\u001b[0m\u001b[0;34m.\u001b[0m\u001b[0mposterior\u001b[0m\u001b[0;34m.\u001b[0m\u001b[0mσ\u001b[0m\u001b[0;34m.\u001b[0m\u001b[0mmean\u001b[0m\u001b[0;34m(\u001b[0m\u001b[0;34m)\u001b[0m\u001b[0;34m.\u001b[0m\u001b[0mvalues\u001b[0m\u001b[0;34m)\u001b[0m\u001b[0;34m\u001b[0m\u001b[0;34m\u001b[0m\u001b[0m\n\u001b[1;32m      3\u001b[0m \u001b[0mbetamean_ar1\u001b[0m\u001b[0;34m=\u001b[0m\u001b[0mfloat\u001b[0m\u001b[0;34m(\u001b[0m\u001b[0mtrace_hist_pic_ar1\u001b[0m\u001b[0;34m.\u001b[0m\u001b[0mposterior\u001b[0m\u001b[0;34m.\u001b[0m\u001b[0mβ\u001b[0m\u001b[0;34m.\u001b[0m\u001b[0mmean\u001b[0m\u001b[0;34m(\u001b[0m\u001b[0;34m)\u001b[0m\u001b[0;34m.\u001b[0m\u001b[0mvalues\u001b[0m\u001b[0;34m)\u001b[0m\u001b[0;34m\u001b[0m\u001b[0;34m\u001b[0m\u001b[0m\n\u001b[1;32m      4\u001b[0m \u001b[0mphimean_ar1\u001b[0m\u001b[0;34m=\u001b[0m\u001b[0mfloat\u001b[0m\u001b[0;34m(\u001b[0m\u001b[0mgetattr\u001b[0m\u001b[0;34m(\u001b[0m\u001b[0mtrace_hist_pic_ar1\u001b[0m\u001b[0;34m.\u001b[0m\u001b[0mposterior\u001b[0m\u001b[0;34m,\u001b[0m\u001b[0;34m\"ϕ\"\u001b[0m\u001b[0;34m)\u001b[0m\u001b[0;34m.\u001b[0m\u001b[0mmean\u001b[0m\u001b[0;34m(\u001b[0m\u001b[0;34m)\u001b[0m\u001b[0;34m.\u001b[0m\u001b[0mvalues\u001b[0m\u001b[0;34m)\u001b[0m\u001b[0;34m\u001b[0m\u001b[0;34m\u001b[0m\u001b[0m\n",
      "\u001b[0;31mNameError\u001b[0m: name 'trace_hist_pic_ar1' is not defined"
     ]
    }
   ],
   "source": [
    "Fmean_ar1=trace_hist_pic_ar1.posterior.μ.mean(dim=(\"chain\",\"draw\"))\n",
    "sigmean_ar1=float(trace_hist_pic_ar1.posterior.σ.mean().values)\n",
    "betamean_ar1=float(trace_hist_pic_ar1.posterior.β.mean().values)\n",
    "phimean_ar1=float(getattr(trace_hist_pic_ar1.posterior,\"ϕ\").mean().values)"
   ]
  },
  {
   "cell_type": "code",
   "execution_count": 32,
   "id": "growing-trainer",
   "metadata": {},
   "outputs": [
    {
     "ename": "NameError",
     "evalue": "name 'sigmean_ar1' is not defined",
     "output_type": "error",
     "traceback": [
      "\u001b[0;31m---------------------------------------------------------------------------\u001b[0m",
      "\u001b[0;31mNameError\u001b[0m                                 Traceback (most recent call last)",
      "\u001b[0;32m<ipython-input-32-858fdc62e066>\u001b[0m in \u001b[0;36m<module>\u001b[0;34m\u001b[0m\n\u001b[1;32m      1\u001b[0m \u001b[0mδ\u001b[0m\u001b[0;34m=\u001b[0m\u001b[0mnp\u001b[0m\u001b[0;34m.\u001b[0m\u001b[0marange\u001b[0m\u001b[0;34m(\u001b[0m\u001b[0mnt\u001b[0m\u001b[0;34m)\u001b[0m\u001b[0;34m\u001b[0m\u001b[0;34m\u001b[0m\u001b[0m\n\u001b[1;32m      2\u001b[0m \u001b[0mimj\u001b[0m\u001b[0;34m=\u001b[0m\u001b[0mnp\u001b[0m\u001b[0;34m.\u001b[0m\u001b[0mabs\u001b[0m\u001b[0;34m(\u001b[0m\u001b[0mnp\u001b[0m\u001b[0;34m.\u001b[0m\u001b[0msubtract\u001b[0m\u001b[0;34m.\u001b[0m\u001b[0mouter\u001b[0m\u001b[0;34m(\u001b[0m\u001b[0mδ\u001b[0m\u001b[0;34m,\u001b[0m\u001b[0mδ\u001b[0m\u001b[0;34m)\u001b[0m\u001b[0;34m)\u001b[0m\u001b[0;34m\u001b[0m\u001b[0;34m\u001b[0m\u001b[0m\n\u001b[0;32m----> 3\u001b[0;31m \u001b[0mcov_ar1\u001b[0m\u001b[0;34m=\u001b[0m\u001b[0msigmean_ar1\u001b[0m\u001b[0;34m**\u001b[0m\u001b[0;36m2\u001b[0m\u001b[0;34m/\u001b[0m\u001b[0;34m(\u001b[0m\u001b[0;36m1\u001b[0m\u001b[0;34m-\u001b[0m\u001b[0mphimean_ar1\u001b[0m\u001b[0;34m**\u001b[0m\u001b[0;36m2\u001b[0m\u001b[0;34m)\u001b[0m\u001b[0;34m*\u001b[0m\u001b[0mphimean_ar1\u001b[0m\u001b[0;34m**\u001b[0m\u001b[0mimj\u001b[0m\u001b[0;34m\u001b[0m\u001b[0;34m\u001b[0m\u001b[0m\n\u001b[0m\u001b[1;32m      4\u001b[0m \u001b[0mcovinv_ar1\u001b[0m\u001b[0;34m=\u001b[0m\u001b[0mnp\u001b[0m\u001b[0;34m.\u001b[0m\u001b[0mlinalg\u001b[0m\u001b[0;34m.\u001b[0m\u001b[0minv\u001b[0m\u001b[0;34m(\u001b[0m\u001b[0mcov_ar1\u001b[0m\u001b[0;34m)\u001b[0m\u001b[0;34m\u001b[0m\u001b[0;34m\u001b[0m\u001b[0m\n",
      "\u001b[0;31mNameError\u001b[0m: name 'sigmean_ar1' is not defined"
     ]
    }
   ],
   "source": [
    "δ=np.arange(nt)\n",
    "imj=np.abs(np.subtract.outer(δ,δ))\n",
    "cov_ar1=sigmean_ar1**2/(1-phimean_ar1**2)*phimean_ar1**imj\n",
    "covinv_ar1=np.linalg.inv(cov_ar1)"
   ]
  },
  {
   "cell_type": "code",
   "execution_count": null,
   "id": "aboriginal-version",
   "metadata": {},
   "outputs": [],
   "source": [
    "Fmean_red=trace_hist_pic_ar1.posterior.μ.mean(dim=(\"chain\",\"draw\"))\n",
    "sigmean_red=float(trace_hist_pic_white.posterior.σ.mean().values)\n",
    "betamean=float(trace_hist_pic_white.posterior.β.mean().values)"
   ]
  },
  {
   "cell_type": "code",
   "execution_count": null,
   "id": "other-contractor",
   "metadata": {},
   "outputs": [],
   "source": [
    "np.linalg.det(sigmean**2*np.identity(nt))"
   ]
  },
  {
   "cell_type": "code",
   "execution_count": null,
   "id": "sufficient-guyana",
   "metadata": {},
   "outputs": [],
   "source": [
    "tst=1\n",
    "for i in np.arange(-100,100,.1):\n",
    "    tst=tst*stats.norm.pdf(i,0,1)\n"
   ]
  },
  {
   "cell_type": "code",
   "execution_count": null,
   "id": "fossil-education",
   "metadata": {},
   "outputs": [],
   "source": []
  },
  {
   "cell_type": "code",
   "execution_count": null,
   "id": "pacific-subdivision",
   "metadata": {},
   "outputs": [],
   "source": [
    "cov = sigmean**2*np.identity(nt)\n",
    "covinv=np.linalg.inv(cov)\n",
    "Mahalanobis=np.dot(np.dot((gistemp-Fmean).T,covinv),(gistemp-Fmean))\n",
    "Mahalanobis_ar1=np.dot(np.dot((gistemp-Fmean_ar1).T,covinv_ar1),(gistemp-Fmean_ar1))\n",
    "print(Mahalanobis)\n",
    "print(Mahalanobis_ar1)"
   ]
  },
  {
   "cell_type": "code",
   "execution_count": null,
   "id": "humanitarian-break",
   "metadata": {},
   "outputs": [],
   "source": [
    "i=0\n",
    "tst=stats.norm.pdf(gistemp[i],loc=F[i],scale=sigmean)\n",
    "for i in range(nt)[1:]:\n",
    "    tst=tst*stats.norm.pdf(gistemp[i],loc=F[i],scale=sigmean)\n",
    "np.log(tst)"
   ]
  },
  {
   "cell_type": "code",
   "execution_count": null,
   "id": "bizarre-patent",
   "metadata": {},
   "outputs": [],
   "source": [
    "# WHAT DO LOG LIKELIHOODS ACTUALLY MEAN?\n",
    "from scipy.stats import multivariate_normal\n",
    "#x = np.linspace(0, 5, 10, endpoint=False)\n",
    "cov = sigmean**2*np.identity(nt)\n",
    "np.log(multivariate_normal.pdf(gistemp,mean=betamean*F,cov=cov))\n",
    "#y = multivariate_normal.pdf(x, mean=2.5, cov=0.5)\n",
    "#plt.plot(x,y)"
   ]
  },
  {
   "cell_type": "code",
   "execution_count": null,
   "id": "appointed-istanbul",
   "metadata": {},
   "outputs": [],
   "source": [
    "\n",
    "tmp=plt.hist(trace_hist_pic_ar1.log_likelihood.obs.values.flatten(),color=\"r\",label=\"AR(1) + forcing\")\n",
    "tmp=plt.hist(trace_hist_pic_white.log_likelihood.obs.values.flatten(),color=\"k\",label=\"White noise+forcing\")\n",
    "#tmp=plt.hist(whitetrace.log_likelihood.obs.values.flatten(),color=\"b\",label=\"White noise\")\n",
    "plt.legend()"
   ]
  },
  {
   "cell_type": "code",
   "execution_count": null,
   "id": "acknowledged-potter",
   "metadata": {},
   "outputs": [],
   "source": []
  },
  {
   "cell_type": "code",
   "execution_count": null,
   "id": "applicable-dancing",
   "metadata": {},
   "outputs": [],
   "source": [
    "az.waic(trace_hist_pic_white)"
   ]
  },
  {
   "cell_type": "code",
   "execution_count": null,
   "id": "prospective-sydney",
   "metadata": {},
   "outputs": [],
   "source": [
    "az.plot_trace(trace_hist_pic_white,var_names=[\"σ\"])"
   ]
  },
  {
   "cell_type": "code",
   "execution_count": null,
   "id": "amber-meditation",
   "metadata": {},
   "outputs": [],
   "source": [
    "white_ppc[\"obs\"].shape"
   ]
  },
  {
   "cell_type": "code",
   "execution_count": null,
   "id": "brilliant-newcastle",
   "metadata": {},
   "outputs": [],
   "source": [
    "az.plot_posterior(redtrace)"
   ]
  },
  {
   "cell_type": "code",
   "execution_count": null,
   "id": "armed-slope",
   "metadata": {},
   "outputs": [],
   "source": []
  },
  {
   "cell_type": "code",
   "execution_count": null,
   "id": "advance-score",
   "metadata": {},
   "outputs": [],
   "source": [
    "BIGTRACES={\"white noise\":whitetrace,\"white noise with forcing\":whitetrace_withforcing,\"red noise\":redtrace}\n",
    "for k in BIGTRACES.keys():\n",
    "    BIGTRACES[k].sample_stats[\"log_likelihood\"]= BIGTRACES[k].log_likelihood.obs"
   ]
  },
  {
   "cell_type": "code",
   "execution_count": null,
   "id": "weekly-completion",
   "metadata": {},
   "outputs": [],
   "source": [
    "pm.compare(BIGTRACES)"
   ]
  },
  {
   "cell_type": "code",
   "execution_count": null,
   "id": "sensitive-dividend",
   "metadata": {},
   "outputs": [],
   "source": [
    "az.loo(whitetrace,var_name=\"obs\")"
   ]
  },
  {
   "cell_type": "code",
   "execution_count": null,
   "id": "catholic-butler",
   "metadata": {},
   "outputs": [],
   "source": [
    "az.loo(whitetrace_withforcing,var_name=\"obs\")"
   ]
  },
  {
   "cell_type": "code",
   "execution_count": null,
   "id": "juvenile-deficit",
   "metadata": {},
   "outputs": [],
   "source": [
    "with pm.Model() as just_AR1:\n",
    "    ϕ=pm.Normal(\"ϕ\",0,10)\n",
    "    σ_obs = pm.HalfNormal(\"σ_obs\",10)\n",
    "    obs=pm.AR1(\"obs\",k=ϕ,tau_e=1/tt.pow(σ_obs,2),observed=gistemp,shape=nt)"
   ]
  },
  {
   "cell_type": "code",
   "execution_count": null,
   "id": "norwegian-plasma",
   "metadata": {},
   "outputs": [],
   "source": [
    "with just_AR1:\n",
    "    test_just_AR1=pm.sample(return_inferencedata=True)"
   ]
  },
  {
   "cell_type": "code",
   "execution_count": null,
   "id": "durable-milton",
   "metadata": {},
   "outputs": [],
   "source": [
    "with pm.Model() as simul_piC_AR1_model:\n",
    "    #Priors\n",
    "    β=pm.Normal(\"β\",0,10)\n",
    "    γ=pm.HalfNormal(\"γ\",10)\n",
    "    ϕ=pm.Normal(\"ϕ\",0,2)\n",
    "    \n",
    "    σGCM = pm.HalfNormal(\"σGCM\",10)\n",
    "    μ=pm.Normal(\"μ\",0,10,shape=nt)\n",
    "    \n",
    "    #Train sigma gcm and mu on historical and piC\n",
    "    F=pm.AR1(\"F\",k=ϕ,tau_e=1/tt.pow(σGCM,2),observed = tt.sub(GISS_simulations[\"historical\"],μ))\n",
    "    piC=pm.AR1(\"likelihood_piC\",k=ϕ,tau_e=1/tt.pow(σGCM,2),\\\n",
    "                             observed= GISS_simulations[\"piControl\"])\n",
    "    μ_obs=β*μ\n",
    "    σ_obs=γ*σGCM\n",
    "    obs=pm.AR1(\"obs\",k=ϕ,tau_e=1/tt.pow(σ_obs,2),observed=tt.sub(gistemp,μ_obs))\n"
   ]
  },
  {
   "cell_type": "code",
   "execution_count": null,
   "id": "usual-accent",
   "metadata": {},
   "outputs": [],
   "source": [
    "az.loo(test_loo,var_name=\"obs\")"
   ]
  },
  {
   "cell_type": "code",
   "execution_count": null,
   "id": "worthy-taxation",
   "metadata": {},
   "outputs": [],
   "source": [
    "with simul_piC_AR1_model:\n",
    "    test=pm.sample(return_inferencedata=True)"
   ]
  },
  {
   "cell_type": "code",
   "execution_count": null,
   "id": "considered-justice",
   "metadata": {},
   "outputs": [],
   "source": [
    "az.plot_posterior(test,var_names=[\"γ\"])"
   ]
  },
  {
   "cell_type": "code",
   "execution_count": null,
   "id": "grave-diversity",
   "metadata": {},
   "outputs": [],
   "source": [
    "with simul_piC_white_model:\n",
    "    test_loo=pm.sample(return_inferencedata=True)"
   ]
  },
  {
   "cell_type": "code",
   "execution_count": null,
   "id": "detected-alignment",
   "metadata": {},
   "outputs": [],
   "source": [
    "#Why is test_loo\n",
    "az.loo(test_loo,var_name=\"obs\")"
   ]
  },
  {
   "cell_type": "code",
   "execution_count": null,
   "id": "presidential-paper",
   "metadata": {},
   "outputs": [],
   "source": [
    "    \n",
    "\n",
    "# use piControl simultaneously\n",
    "with pm.Model() as simul_piC_ar1_model:\n",
    "    β=pm.Normal(\"β\",0,10)\n",
    "    γ=pm.HalfNormal(\"γ\",10)\n",
    "    σGCM = pm.HalfNormal(\"σGCM\",10)\n",
    "    μ=pm.Normal(\"μ\",0,10,shape=nt)\n",
    "    F=pm.Normal(\"F\",mu=μ,sigma=σGCM,\\\n",
    "                observed = GISS_simulations[\"historical\"])\n",
    "    piC=pm.Normal(\"likelihood_piC\",mu=np.zeros(nt),sigma=σGCM,\\\n",
    "                             observed= GISS_simulations[\"piControl\"])\n",
    "    μ_obs=β*μ\n",
    "    σ_obs=γ*σGCM\n",
    "    obs=pm.Normal(\"obs\",mu=μ_obs,sigma=σ_obs,observed=gistemp)"
   ]
  },
  {
   "cell_type": "code",
   "execution_count": null,
   "id": "traditional-controversy",
   "metadata": {},
   "outputs": [],
   "source": [
    "# Is there evidence for nonstationarity of noise???\n",
    "with pm.Model() as nonstationary_model:\n",
    " \n",
    "    γ=pm.HalfNormal(\"γ\",10)\n",
    "    σpiC = pm.HalfNormal(\"σpiC\",10)\n",
    "    μ=pm.Normal(\"μ\",0,10,shape=nt)\n",
    "    F=pm.Normal(\"F\",mu=μ,sigma=σpiC*γ,\\\n",
    "                observed = GISS_simulations[\"historical\"])\n",
    "    piC=pm.Normal(\"likelihood_piC\",mu=np.zeros(nt),sigma=σpiC,\\\n",
    "                             observed= GISS_simulations[\"piControl\"])\n",
    "\n",
    "    "
   ]
  },
  {
   "cell_type": "code",
   "execution_count": null,
   "id": "golden-makeup",
   "metadata": {},
   "outputs": [],
   "source": [
    "with nonstationary_model:\n",
    "    nonstationary_trace = pm.sample(return_inferencedata=True)"
   ]
  },
  {
   "cell_type": "code",
   "execution_count": null,
   "id": "characteristic-threshold",
   "metadata": {},
   "outputs": [],
   "source": [
    "sns.kdeplot(nonstationary_trace.posterior.γ.values.flatten())\n",
    "plt.axvline(1)"
   ]
  },
  {
   "cell_type": "code",
   "execution_count": null,
   "id": "common-programming",
   "metadata": {},
   "outputs": [],
   "source": [
    "with histmodel_piC:\n",
    "    trace_hist_pic_white=pm.sample(return_inferencedata=True)"
   ]
  },
  {
   "cell_type": "code",
   "execution_count": null,
   "id": "speaking-pakistan",
   "metadata": {},
   "outputs": [],
   "source": [
    "plt.figure(figsize=(10,8))\n",
    "plt.subplot(221)\n",
    "for i in range(nenspic):\n",
    "    timeax=np.arange(ntpic)+i*ntpic\n",
    "    plt.plot(timeax,GISS_simulations[\"piControl\"][i].asma(),color=cm.Purples(float(i+1)/nenspic))\n",
    "plt.ylabel(r\"$\\Delta T \\, (^{\\circ}$C)\")\n",
    "plt.title(\"(a): Preindustrial control segments\")\n",
    "plt.xlabel(\"Year\")\n",
    "\n",
    "plt.subplot(223)\n",
    "sns.kdeplot(piC_white_trace[\"σ\"].flatten(),label=\"σGCM (piControl)\",c=cm.gray(.5))\n",
    "sns.kdeplot(trace_hist_pic_white.posterior.σ.values.flatten(),\\\n",
    "            label=\"σGCM (piControl and historical)\",c=cm.gray(.01))\n",
    "sns.kdeplot(simpletrace.posterior.σ.values.flatten(),label=\" σobs (No fingerprint uncertainty)\",c=cm.Blues(.5))\n",
    "\n",
    "sns.kdeplot(trace_hist_pic_white.posterior.σ.values.flatten()*\\\n",
    "            trace_hist_pic_white.posterior.γ.values.flatten(),\\\n",
    "            label=\"σobs (fingerprint uncertainty)\",c=cm.Blues(.99))\n",
    "plt.legend(fontsize=8)\n",
    "plt.xlabel(\"σ\")\n",
    "plt.title(\"(c): Posteriors: modeled/observed internal variability\")\n",
    "\n",
    "plt.subplot(222)\n",
    "\n",
    "fac=stats.norm.interval(.9)[1]\n",
    "sigma_ens=np.std(GISS_simulations[\"historical\"],axis=0)\n",
    "mu_ens=np.average(GISS_simulations[\"historical\"],axis=0)\n",
    "plt.fill_between(y,mu_ens-fac*sigma_ens,mu_ens+fac*sigma_ens,alpha=.4,label=\"90% interval estimated from ensemble\")\n",
    "\n",
    "\n",
    "az.plot_hdi(y,trace_hist_pic_white.posterior.μ,smooth=False,color=\"k\",hdi_prob=.9)\n",
    "\n",
    "tmp,=plt.plot([1900],[0],c=\"k\",alpha=.5,label=\"F (90% HDI)\")\n",
    "plt.legend()            \n",
    "tmp.set_visible(False)\n",
    "plt.title(\"(b): Forced response\")\n",
    "plt.xlabel(\"Year\")\n",
    "plt.ylabel(r\"$\\Delta T \\, (^{\\circ}$C)\")\n",
    "\n",
    "plt.subplot(224)\n",
    "sns.kdeplot(simpletrace.posterior.β.values.flatten(),label=\"β (No fingerprint uncertainty)\",c=cm.Blues(.5))\n",
    "sns.kdeplot(trace_hist_pic_white.posterior.β.values.flatten(),\\\n",
    "            label=\"β (Fingerprint uncertainty)\",c=cm.Blues(.99))\n",
    "plt.legend(fontsize=8)\n",
    "plt.title(\"(d): Posteriors: scaling factor\")\n",
    "plt.tight_layout()\n",
    "plt.savefig(\"../BayesDA/FIGS/Figure3.pdf\")"
   ]
  },
  {
   "cell_type": "code",
   "execution_count": null,
   "id": "expired-sustainability",
   "metadata": {},
   "outputs": [],
   "source": []
  },
  {
   "cell_type": "code",
   "execution_count": null,
   "id": "representative-privilege",
   "metadata": {
    "scrolled": true
   },
   "outputs": [],
   "source": [
    "\n",
    "plt.title(\"Forced response (90% HDI)\")\n",
    "fac=stats.norm.interval(.9)[1]\n",
    "sigma_ens=np.std(GISS_simulations[\"historical\"],axis=0)\n",
    "mu_ens=np.average(GISS_simulations[\"historical\"],axis=0)\n",
    "plt.fill_between(y,mu_ens-fac*sigma_ens,mu_ens+fac*sigma_ens,alpha=.4)\n",
    "az.plot_hdi(y,trace_hist_pic_white.posterior.μ,smooth=False,hdi_prob=.9,color=\"k\")\n",
    "plt.ylabel(\"ΔT\")"
   ]
  },
  {
   "cell_type": "code",
   "execution_count": null,
   "id": "protected-dress",
   "metadata": {},
   "outputs": [],
   "source": [
    "axes=az.plot_posterior(trace_hist_pic_white.posterior.β,hdi_prob=.9)\n",
    "az.plot_posterior(simpletrace.posterior.β,hdi_prob=.9,ax=axes,color=\"r\")"
   ]
  },
  {
   "cell_type": "code",
   "execution_count": null,
   "id": "valuable-wyoming",
   "metadata": {},
   "outputs": [],
   "source": [
    "\n",
    "print(az.hdi(trace_hist_pic_white.posterior.β,hdi_prob=.9).β.values)\n",
    "print(az.hdi(simpletrace.posterior.β,hdi_prob=.9).β.values)"
   ]
  },
  {
   "cell_type": "code",
   "execution_count": null,
   "id": "turned-fountain",
   "metadata": {},
   "outputs": [],
   "source": [
    "# Taking into account the uncertainty in the fingerprint actually "
   ]
  },
  {
   "cell_type": "code",
   "execution_count": null,
   "id": "binary-incidence",
   "metadata": {},
   "outputs": [],
   "source": [
    "sns.kdeplot(simpletrace.posterior.σ.values.flatten(),label=\"σobs (No fingerprint uncertainty)\")\n",
    "sns.kdeplot(np.sqrt(trace_hist_pic_white.posterior.γ.values.flatten())*\\\n",
    "            trace_hist_pic_white.posterior.σ.values.flatten(),label=\"Fingerprint uncertainty\")\n",
    "sns.kdeplot(trace_hist_pic_white.posterior.σ.values.flatten(),label=\"σGCM\")\n",
    "plt.legend()"
   ]
  },
  {
   "cell_type": "markdown",
   "id": "greater-ozone",
   "metadata": {},
   "source": [
    "Posteriors for all other parameters: scaling parameters $\\beta$ for (uncertain) external forcing and $\\gamma$ for internal variability and internal variability $\\sigma$ itself  (as simulated by the model)"
   ]
  },
  {
   "cell_type": "code",
   "execution_count": null,
   "id": "stone-thunder",
   "metadata": {},
   "outputs": [],
   "source": [
    "az.plot_posterior(trace_hist_pic_white.posterior,var_names=[\"σ\",\"γ\",\"β\"],hdi_prob=.9)"
   ]
  },
  {
   "cell_type": "code",
   "execution_count": null,
   "id": "suited-invalid",
   "metadata": {},
   "outputs": [],
   "source": [
    "az.plot_hdi(y,trace_hist_pic_white.posterior.β*trace_hist_pic_white.posterior.μ,smooth=False,hdi_prob=.99)\n",
    "plt.plot(y,gistemp)\n",
    "plt.ylabel(\"ΔT\")\n",
    "plt.title(\"Attributed forced component (90% HDI)\")"
   ]
  },
  {
   "cell_type": "markdown",
   "id": "generic-sharp",
   "metadata": {},
   "source": [
    "## Alternate noise models\n",
    "The simple white noise model for internal variability in the observations is not necessarily applicable to some (perhaps most) climate data.  Fortunately, the Bayesian framework can easily accommodate more complex noise models by parameterizing the temporal structure of the covariance matrix.  For example, the covariance matrix of an short memory AR(1) process can be written as \n",
    "\\begin{equation}\n",
    "    U_{ij}^{AR(1)} = \\frac{\\sigma^2}{1-\\phi^2} \\phi^{|i-j|}.\n",
    "\\end{equation}\n",
    "A long-memory process can be modeled using a fractionally differenced process with covariance matrix\n",
    "\\begin{equation}\n",
    "U_{ij}^{FD} =\\frac{\\sigma^2 \\sin(\\pi \\delta) \\Gamma((1-2\\delta) \\Gamma(|i-j| + \\delta)}{\\pi \\Gamma(|i-j|+ 1-\\delta}\n",
    "\\end{equation}\n",
    "In both cases, the additional structure added to the covariance matrix results in only one additional parameter to be estimated.  \n",
    "\n",
    "Let's do AR(1) noise here"
   ]
  },
  {
   "cell_type": "code",
   "execution_count": null,
   "id": "figured-vienna",
   "metadata": {},
   "outputs": [],
   "source": [
    "with pm.Model() as piC_AR1:\n",
    "    σ=pm.HalfNormal(\"σ\",10)\n",
    "    ϕ=pm.Uniform(\"ϕ\",-1,1)\n",
    "    #AR(1) covariance matrix\n",
    "    δ=np.arange(nt)\n",
    "    imj=np.abs(np.subtract.outer(δ,δ))\n",
    "    cov=tt.pow(σ,2)/(1-tt.pow(ϕ,2))*tt.pow(ϕ,imj)\n",
    "    \n",
    "    chol=tt.slinalg.cholesky(cov)\n",
    "    \n",
    "    \n",
    "    #use piControl to train the noise model\n",
    "\n",
    "    F=pm.MvNormal(\"likelihood_piC\",mu=np.zeros(nt),chol=chol,\\\n",
    "                             observed= GISS_simulations[\"piControl\"])\n"
   ]
  },
  {
   "cell_type": "code",
   "execution_count": null,
   "id": "frozen-computer",
   "metadata": {},
   "outputs": [],
   "source": [
    "with pm.Model() as piC_long_memory:\n",
    "    σ=pm.HalfNormal(\"σ\",10)\n",
    "    δ=pm.Uniform(\"δ\",0,.5)\n",
    "    D=np.arange(nt)\n",
    "    imj=np.abs(np.subtract.outer(D,D))\n",
    "    cov= (tt.pow(σ,2) * tt.sin(np.pi*δ)* tt.gamma(1-2*δ) * tt.gamma(imj+δ))/(np.pi*tt.gamma(imj+1-δ))\n",
    "    chol=tt.slinalg.cholesky(cov)\n",
    "    \n",
    "    \n",
    "    #use piControl to train the noise model\n",
    "\n",
    "    F=pm.MvNormal(\"likelihood_piC\",mu=np.zeros(nt),chol=chol,\\\n",
    "                             observed= GISS_simulations[\"piControl\"])\n"
   ]
  },
  {
   "cell_type": "code",
   "execution_count": null,
   "id": "lucky-cameroon",
   "metadata": {},
   "outputs": [],
   "source": [
    "with piC_long_memory:\n",
    "    piC_long_trace_inference=pm.sample(return_inferencedata=True)"
   ]
  },
  {
   "cell_type": "code",
   "execution_count": null,
   "id": "naked-bundle",
   "metadata": {},
   "outputs": [],
   "source": [
    "with piC_AR1:\n",
    "    piC_AR1_trace=pm.sample(return_inferencedata=True)"
   ]
  },
  {
   "cell_type": "code",
   "execution_count": null,
   "id": "processed-source",
   "metadata": {},
   "outputs": [],
   "source": [
    "az.plot_posterior(piC_AR1_trace,var_names=[\"ϕ\"])"
   ]
  },
  {
   "cell_type": "code",
   "execution_count": null,
   "id": "expensive-queensland",
   "metadata": {},
   "outputs": [],
   "source": [
    "sns.kdeplot(getattr(RED_NOISE_PLUS_FORCED_RESPONSE_TRACE.posterior,\"ϕ\").values.flatten())\n",
    "sns.kdeplot(getattr(RED_NOISE_ONLY_TRACE.posterior,\"ϕ\").values.flatten())\n",
    "sns.kdeplot(getattr(piC_AR1_trace.posterior,\"ϕ\").values.flatten())"
   ]
  },
  {
   "cell_type": "code",
   "execution_count": null,
   "id": "rolled-sarah",
   "metadata": {},
   "outputs": [],
   "source": [
    "#Inferencedata objects for both noise models for use by az.compare\n",
    "with piC_AR1:\n",
    "    piC_AR1_inference=pm.sample(return_inferencedata=True)\n",
    "with piCmodel:\n",
    "    piC_white_inference=pm.sample(return_inferencedata=True)"
   ]
  },
  {
   "cell_type": "code",
   "execution_count": null,
   "id": "outdoor-header",
   "metadata": {},
   "outputs": [],
   "source": [
    "az.plot_posterior(piC_AR1_inference.posterior,var_names=[\"ϕ\",\"σ\"])"
   ]
  },
  {
   "cell_type": "markdown",
   "id": "neural-probe",
   "metadata": {},
   "source": [
    "### Which noise model is better?\n",
    "Compare models based on their expected log pointwise predictive density (ELPD).\n",
    "\n",
    "The ELPD is estimated either by Pareto smoothed importance sampling leave-one-out cross-validation (LOO) dx.doi.org/10.1111/1467-9868.00353"
   ]
  },
  {
   "cell_type": "code",
   "execution_count": null,
   "id": "alleged-coordinate",
   "metadata": {},
   "outputs": [],
   "source": [
    "az.loo(piC_AR1_inference)"
   ]
  },
  {
   "cell_type": "code",
   "execution_count": null,
   "id": "charming-clock",
   "metadata": {},
   "outputs": [],
   "source": [
    "dfcomp=az.compare({\"AR(1) noise model\":piC_AR1_inference,\"Gaussian noise model\":piC_white_inference,\"long\": piC_long_trace_inference})"
   ]
  },
  {
   "cell_type": "code",
   "execution_count": null,
   "id": "lonely-router",
   "metadata": {},
   "outputs": [],
   "source": [
    "dfcomp"
   ]
  },
  {
   "cell_type": "code",
   "execution_count": null,
   "id": "absent-edgar",
   "metadata": {},
   "outputs": [],
   "source": [
    "dfcomp[[\"rank\",\"loo\",\"p_loo\",\"se\"]].to_latex(\"noisecomptable.tex\")"
   ]
  },
  {
   "cell_type": "markdown",
   "id": "inner-brass",
   "metadata": {},
   "source": [
    "posteriors for AR(1) red noise model"
   ]
  },
  {
   "cell_type": "code",
   "execution_count": null,
   "id": "associate-casino",
   "metadata": {},
   "outputs": [],
   "source": [
    "az.plot_posterior(piC_AR1_trace,var_names=[\"σ\",\"ϕ\"],hdi_prob=.9,kind=\"hist\",color=\"k\")"
   ]
  },
  {
   "cell_type": "markdown",
   "id": "straight-deviation",
   "metadata": {},
   "source": [
    "## Uncertain historical forced response, AR(1) noise"
   ]
  },
  {
   "cell_type": "code",
   "execution_count": null,
   "id": "annual-circulation",
   "metadata": {},
   "outputs": [],
   "source": [
    "with pm.Model() as piC_AR1_hist:\n",
    "\n",
    "    σ=from_posterior(\"σ\",piC_AR1_trace[\"σ\"])\n",
    "    ϕ=from_posterior(\"ϕ\",piC_AR1_trace[\"ϕ\"])\n",
    "    #observed scaling factors\n",
    "    β=pm.Normal(\"β\",0,10)\n",
    "    γ=pm.HalfNormal(\"γ\",10)\n",
    "   \n",
    "    #assume the autocorrelation in the obs is the same as that in the models\n",
    "    \n",
    "    \n",
    "    \n",
    "    #AR(1) covariance matrix\n",
    "    δ=np.arange(nt)\n",
    "    imj=np.abs(np.subtract.outer(δ,δ))\n",
    "    cov=tt.pow(σ,2)/(1-tt.pow(ϕ,2))*tt.pow(ϕ,imj)\n",
    "\n",
    "    chol=tt.slinalg.cholesky(cov)\n",
    "    \n",
    "    covobs=tt.pow(γ*σ,2)/(1-tt.pow(ϕ,2))*tt.pow(ϕ,imj)\n",
    "\n",
    "    chol_obs=tt.slinalg.cholesky(covobs)\n",
    "    \n",
    "    μ=pm.Normal(\"μ\",0,10,shape=nt)\n",
    "    \n",
    "    F=pm.MvNormal(\"likelihood_hist\",mu=μ,chol=chol,\\\n",
    "                             observed= GISS_simulations[\"historical\"])\n",
    "    μ_obs=β*μ\n",
    "    obs=pm.MvNormal(\"obs\",mu=μ_obs,chol=chol_obs,observed=gistemp)\n",
    " \n"
   ]
  },
  {
   "cell_type": "code",
   "execution_count": null,
   "id": "partial-warrior",
   "metadata": {},
   "outputs": [],
   "source": [
    "with piC_AR1_hist:\n",
    "    \n",
    "    trace_hist_pic_ar1=pm.sample(return_inferencedata=True)"
   ]
  },
  {
   "cell_type": "code",
   "execution_count": null,
   "id": "noticed-cassette",
   "metadata": {},
   "outputs": [],
   "source": [
    "with pm.Model() as just_noise:\n",
    "    #Coefficients of forced responses\n",
    "    \n",
    "    \n",
    "    #Internal variability\n",
    "    σ=pm.HalfNormal(\"σ\",10)\n",
    "    \n",
    "    obs=pm.MvNormal(\"obs\",mu=np.zeros(nt),cov=tt.pow(σ,2)*np.identity(nt),observed=gistemp,)\n",
    "\n",
    "with just_noise:\n",
    "    trace_just_noise=pm.sample(return_inferencedata=True)"
   ]
  },
  {
   "cell_type": "code",
   "execution_count": null,
   "id": "judicial-keyboard",
   "metadata": {},
   "outputs": [],
   "source": [
    "with pm.Model() as AR1_justnoise:\n",
    "    \n",
    "    #observed scaling factors\n",
    "    #β=pm.Normal(\"β\",0,10)\n",
    "    σ=pm.HalfNormal(\"γ\",10)\n",
    "    ϕ=pm.Uniform(\"ϕ\",-1,1)\n",
    "    covobs=tt.pow(σ,2)/(1-tt.pow(ϕ,2))*tt.pow(ϕ,imj)\n",
    "\n",
    "    chol_obs=tt.slinalg.cholesky(covobs)\n",
    "    μ_obs=np.zeros(nt)\n",
    "    obs=pm.MvNormal(\"obs\",mu=μ_obs,chol=chol_obs,observed=gistemp)\n",
    "with AR1_justnoise:\n",
    "    trace_just_AR1=pm.sample(return_inferencedata=True)"
   ]
  },
  {
   "cell_type": "code",
   "execution_count": null,
   "id": "american-pickup",
   "metadata": {},
   "outputs": [],
   "source": [
    "test=pm.sample_posterior_predictive(trace_just_AR1,model=AR1_justnoise,var_names=[\"obs\"])"
   ]
  },
  {
   "cell_type": "code",
   "execution_count": null,
   "id": "after-adapter",
   "metadata": {},
   "outputs": [],
   "source": [
    "sns.kdeplot(trace_hist_pic_ar1.posterior.β.values.flatten())\n",
    "sns.kdeplot(trace_hist_pic_white.posterior.β.values.flatten())"
   ]
  },
  {
   "cell_type": "code",
   "execution_count": null,
   "id": "laughing-missile",
   "metadata": {},
   "outputs": [],
   "source": [
    "tmp=[plt.plot(y,samp,\"k\",lw=.5,alpha=.2) for samp in test[\"obs\"]]\n",
    "plt.plot(y,gistemp)"
   ]
  },
  {
   "cell_type": "code",
   "execution_count": null,
   "id": "checked-geography",
   "metadata": {},
   "outputs": [],
   "source": [
    "DA_TRACES={\"Gaussian noise, forced response\":trace_hist_pic_white,\\\n",
    "           \"AR(1) noise, forced response\":trace_hist_pic_ar1}#,\\\n",
    "          #\"Gaussian noise, no forced response\": trace_just_noise,\n",
    "         # \"AR(1) noise, no forced response\":trace_just_AR1}"
   ]
  },
  {
   "cell_type": "code",
   "execution_count": null,
   "id": "needed-episode",
   "metadata": {},
   "outputs": [],
   "source": [
    "for k in DA_TRACES.keys():\n",
    "    DA_TRACES[k].sample_stats[\"log_likelihood\"]=DA_TRACES[k].log_likelihood.obs"
   ]
  },
  {
   "cell_type": "code",
   "execution_count": null,
   "id": "drawn-gathering",
   "metadata": {},
   "outputs": [],
   "source": [
    "az.compare(DA_TRACES)"
   ]
  },
  {
   "cell_type": "code",
   "execution_count": null,
   "id": "judicial-things",
   "metadata": {},
   "outputs": [],
   "source": [
    "plt.figure(figsize=(10,8))\n",
    "sns.kdeplot(simpletrace.posterior.β.values.flatten(),label=\"No fingerprint uncertainty\")\n",
    "sns.kdeplot(trace_hist_pic_white.posterior.β.values.flatten(),label=\"Fingerprint hierarchy, Gaussian internal variability)\")\n",
    "sns.kdeplot(trace_hist_pic_ar1.posterior.β.values.flatten(),label=\"Fingerprint hierarchy, AR(1) internal variability)\")\n",
    "plt.legend(loc=4)\n",
    "plt.xlabel(\"β\")"
   ]
  },
  {
   "cell_type": "code",
   "execution_count": null,
   "id": "conscious-relevance",
   "metadata": {},
   "outputs": [],
   "source": [
    "HISTORICALTRACES={\"Gaussian noise\"}"
   ]
  },
  {
   "cell_type": "code",
   "execution_count": null,
   "id": "national-sucking",
   "metadata": {},
   "outputs": [],
   "source": [
    "az.plot_posterior(picar1histtrace,var_names=[\"β\",\"γ\",\"σ\",\"ϕ\"])"
   ]
  },
  {
   "cell_type": "markdown",
   "id": "decimal-nigeria",
   "metadata": {},
   "source": [
    "## Multiple external forcings\n",
    "Use DAMIP ensembles of single-forcing simulations"
   ]
  },
  {
   "cell_type": "code",
   "execution_count": null,
   "id": "through-savannah",
   "metadata": {},
   "outputs": [],
   "source": [
    "#Multiple external forcings\n",
    "external_forcings = [\"aer\",\"GHG\",\"nat\"]\n",
    "\n",
    "with pm.Model() as allforcingsmodel:\n",
    "    #Coefficients of forced responses\n",
    "    β={}\n",
    "    #Latent true forced responses\n",
    "    μ={}\n",
    "    for forcing in external_forcings:\n",
    "        β[forcing]=pm.Normal(\"β\"+forcing,0,10)\n",
    "        μ[forcing]=pm.Normal(\"μ\"+forcing,0,10,shape=nt)\n",
    "    β[\"other\"]=pm.Normal(\"βother\",0,10)\n",
    "    μ[\"other\"]=pm.Normal(\"μother\",0,10,shape=nt)\n",
    "    \n",
    "    #Internal variability\n",
    "    σ=pm.HalfNormal(\"σ\",10)\n",
    "    σmod=pm.HalfNormal(\"σmod\",10)\n",
    "    \n",
    "    #uncertain model forced responses\n",
    "    F={}\n",
    "    for forcing in external_forcings:\n",
    "        F[forcing]=pm.Normal(\"F\"+forcing,mu=μ[forcing],sigma=σmod,shape=nt,\\\n",
    "                             observed = GISS_simulations[\"hist-\"+forcing])\n",
    "    μ_historical = μ[\"other\"]\n",
    "    for forcing in external_forcings:\n",
    "        μ_historical += μ[forcing]\n",
    "    Fhistorical = pm.Normal(\"Fhistorical\",mu = μ_historical,sigma=σmod,shape=nt, \\\n",
    "                            observed=GISS_simulations[\"historical\"])\n",
    "    \n",
    "\n",
    "    \n",
    "    #Observed mean\n",
    "    μ_obs= β[\"other\"]*μ[\"other\"]\n",
    "    for forcing in external_forcings:\n",
    "        μ_obs += β[forcing]*μ[forcing]\n",
    "    \n",
    "    obs=pm.Normal(\"obs\",mu=μ_obs,sigma=σ,observed=gistemp)"
   ]
  },
  {
   "cell_type": "code",
   "execution_count": null,
   "id": "united-baghdad",
   "metadata": {},
   "outputs": [],
   "source": [
    "with allforcingsmodel:\n",
    "    allforcingstrace=pm.sample(return_inferencedata=True)"
   ]
  },
  {
   "cell_type": "code",
   "execution_count": null,
   "id": "informal-antibody",
   "metadata": {},
   "outputs": [],
   "source": [
    "scaled={}\n",
    "for forcing in [\"nat\",\"aer\",\"GHG\",\"other\"]:\n",
    "    scaled[forcing]=getattr(allforcingstrace.posterior,\"μ\"+forcing)\\\n",
    "    *getattr(allforcingstrace.posterior,\"β\"+forcing)\n",
    "\n",
    "import matplotlib.gridspec as gridspec\n",
    "\n",
    "fig=plt.figure(figsize=(10,8))\n",
    "gs=fig.add_gridspec(2,2)\n",
    "f1=fig.add_subplot(gs[0,0])\n",
    "plt.title(\"(a): Fingerprints (90% HDI)\")\n",
    "az.plot_hdi(y,allforcingstrace.posterior.μGHG,smooth=False,color=cm.tab10(2),hdi_prob=.9)\n",
    "az.plot_hdi(y,allforcingstrace.posterior.μaer,smooth=False,color=cm.tab10(1),hdi_prob=.9)\n",
    "az.plot_hdi(y,allforcingstrace.posterior.μnat,smooth=False,color=cm.tab10(3),hdi_prob=.9)\n",
    "az.plot_hdi(y,allforcingstrace.posterior.μother,smooth=False,color=cm.tab10(4),hdi_prob=.9)\n",
    "plt.axhline(0,ls=\":\",c=\"k\")\n",
    "plt.legend()\n",
    "plt.ylabel(\"ΔT\")\n",
    "\n",
    "f2=fig.add_subplot(gs[0,1])\n",
    "plt.title(\"(b): Scaling factors\")\n",
    "sns.kdeplot(allforcingstrace.posterior.βGHG.values.flatten(),color=cm.tab10(2),label=\"GHG\")\n",
    "sns.kdeplot(allforcingstrace.posterior.βaer.values.flatten(),color=cm.tab10(1),label=\"Aerosol\")\n",
    "sns.kdeplot(allforcingstrace.posterior.βnat.values.flatten(),color=cm.tab10(3),label=\"Natural forcings\")\n",
    "sns.kdeplot(allforcingstrace.posterior.βother.values.flatten(),color=cm.tab10(4),label=\"Other\")\n",
    "plt.xlabel(\"β\")\n",
    "plt.legend()\n",
    "\n",
    "f3=fig.add_subplot(gs[1,:])\n",
    "bottom_neg=np.zeros(nt)\n",
    "bottom_pos=np.zeros(nt)\n",
    "bottom=np.zeros(nt)\n",
    "for forcing in [\"nat\",\"aer\",\"GHG\",\"other\"]:\n",
    "    toplot=np.median(scaled[forcing],axis=[0,1])\n",
    "    bottom=np.where(toplot<0,bottom_neg,bottom_pos)\n",
    "    plt.bar(y,toplot,color=get_colors(forcing),bottom=bottom,alpha=.6,label=forcing)\n",
    "    \n",
    "    bottom_neg=np.where(toplot<0,toplot,bottom_neg)\n",
    "    bottom_pos=np.where(toplot>0,toplot,bottom_pos)\n",
    "plt.plot(y,gistemp,lw=3,label=\"GISTEMP\")\n",
    "plt.legend()\n",
    "plt.title(\"(c): Contributions to observed temperature (posterior mean)\")\n",
    "\n",
    "plt.tight_layout()\n",
    "plt.savefig(\"../BayesDA/FIGS/Figure4.pdf\")"
   ]
  },
  {
   "cell_type": "code",
   "execution_count": null,
   "id": "northern-muslim",
   "metadata": {},
   "outputs": [],
   "source": [
    "az.plot_hdi(y,allforcingstrace.posterior.μother,color=cm.tab10(4),hdi_prob=.1,smooth=True)"
   ]
  },
  {
   "cell_type": "code",
   "execution_count": null,
   "id": "paperback-boutique",
   "metadata": {},
   "outputs": [],
   "source": [
    "100*(az.hdi(scaled[\"aer\"],hdi_prob=.9).x.values[-1]/gistemp[-1])"
   ]
  },
  {
   "cell_type": "markdown",
   "id": "metallic-reservation",
   "metadata": {},
   "source": [
    "Plot the highest posterior density interval (90%) for all forced responses estimated from DAMIP ensembles"
   ]
  },
  {
   "cell_type": "code",
   "execution_count": null,
   "id": "informal-bracket",
   "metadata": {},
   "outputs": [],
   "source": [
    "az.plot_hdi(y,allforcingstrace.posterior.μGHG,smooth=False,color=cm.tab10(2),hdi_prob=.9)\n",
    "az.plot_hdi(y,allforcingstrace.posterior.μaer,smooth=False,color=cm.tab10(1),hdi_prob=.9)\n",
    "az.plot_hdi(y,allforcingstrace.posterior.μnat,smooth=False,color=cm.tab10(3),hdi_prob=.9)\n",
    "az.plot_hdi(y,allforcingstrace.posterior.μother,smooth=False,color=cm.tab10(4),hdi_prob=.9)\n",
    "plt.axhline(0,ls=\":\",c=\"k\")\n",
    "plt.ylabel(\"ΔT\")"
   ]
  },
  {
   "cell_type": "markdown",
   "id": "vanilla-motor",
   "metadata": {},
   "source": [
    "Scaling factors for each external forcing"
   ]
  },
  {
   "cell_type": "code",
   "execution_count": null,
   "id": "conventional-neutral",
   "metadata": {},
   "outputs": [],
   "source": [
    "sns.kdeplot(allforcingstrace.posterior.βGHG.values.flatten(),color=cm.tab10(2),label=\"GHG\")\n",
    "sns.kdeplot(allforcingstrace.posterior.βaer.values.flatten(),color=cm.tab10(1),label=\"Aerosol\")\n",
    "sns.kdeplot(allforcingstrace.posterior.βnat.values.flatten(),color=cm.tab10(3),label=\"Natural forcings\")\n",
    "sns.kdeplot(allforcingstrace.posterior.βother.values.flatten(),color=cm.tab10(4),label=\"Other\")\n",
    "plt.xlabel(\"β\")\n",
    "plt.legend()"
   ]
  },
  {
   "cell_type": "code",
   "execution_count": null,
   "id": "precious-tamil",
   "metadata": {},
   "outputs": [],
   "source": [
    "#Plot forced contributions (posterior median)\n",
    "plt.figure(figsize=(10,5))\n",
    "bottom_neg=np.zeros(nt)\n",
    "bottom_pos=np.zeros(nt)\n",
    "bottom=np.zeros(nt)\n",
    "for forcing in [\"nat\",\"aer\",\"GHG\",\"other\"]:\n",
    "    toplot=np.median(scaled[forcing],axis=[0,1])\n",
    "    bottom=np.where(toplot<0,bottom_neg,bottom_pos)\n",
    "    plt.bar(y,toplot,color=get_colors(forcing),bottom=bottom,alpha=.6,label=forcing)\n",
    "    \n",
    "    bottom_neg=np.where(toplot<0,toplot,bottom_neg)\n",
    "    bottom_pos=np.where(toplot>0,toplot,bottom_pos)\n",
    "plt.plot(y,gistemp,lw=3,label=\"GISTEMP\")\n",
    "plt.legend()"
   ]
  },
  {
   "cell_type": "markdown",
   "id": "changing-worth",
   "metadata": {},
   "source": [
    "Greenhouse gases made 1951-1980 warmer than years previously, and colder than subsequent years.  Aerosols had the reverse effect.  Natural forcings had essentially no impact except in years corresponding to large volcanic eruptions."
   ]
  },
  {
   "cell_type": "code",
   "execution_count": null,
   "id": "compound-pledge",
   "metadata": {},
   "outputs": [],
   "source": [
    "\n",
    "with pm.Model() as allforcingsmodel_noresidual:\n",
    "    #Coefficients of forced responses\n",
    "    β={}\n",
    "    #Latent true forced responses\n",
    "    μ={}\n",
    "    for forcing in external_forcings:\n",
    "        β[forcing]=pm.Normal(\"β\"+forcing,0,10)\n",
    "        μ[forcing]=pm.Normal(\"μ\"+forcing,0,10,shape=nt)\n",
    "    \n",
    "    \n",
    "    #Internal variability\n",
    "    σ=pm.HalfNormal(\"σ\",10)\n",
    "    σmod=pm.HalfNormal(\"σmod\",10)\n",
    "    \n",
    "    #uncertain model forced responses\n",
    "    F={}\n",
    "    for forcing in external_forcings:\n",
    "        F[forcing]=pm.Normal(\"F\"+forcing,mu=μ[forcing],sigma=σmod,shape=nt,\\\n",
    "                             observed = GISS_simulations[\"hist-\"+forcing])\n",
    "    \n",
    "\n",
    "    \n",
    "    #Observed mean\n",
    "    μ_obs=0.\n",
    "    for forcing in external_forcings:\n",
    "        μ_obs += β[forcing]*μ[forcing]\n",
    "    \n",
    "    obs=pm.Normal(\"obs\",mu=μ_obs,sigma=σ,observed=gistemp)\n",
    "\n",
    "with allforcingsmodel_noresidual:\n",
    "    trace_noresidual=pm.sample(return_inferencedata=True)"
   ]
  },
  {
   "cell_type": "code",
   "execution_count": null,
   "id": "durable-integer",
   "metadata": {},
   "outputs": [],
   "source": [
    "\n",
    "with pm.Model() as allforcingsmodel_noaerosol:\n",
    "    #Coefficients of forced responses\n",
    "    β={}\n",
    "    #Latent true forced responses\n",
    "    μ={}\n",
    "    for forcing in [\"GHG\",\"nat\"]:\n",
    "        β[forcing]=pm.Normal(\"β\"+forcing,0,10)\n",
    "        μ[forcing]=pm.Normal(\"μ\"+forcing,0,10,shape=nt)\n",
    "    \n",
    "    \n",
    "    #Internal variability\n",
    "    σ=pm.HalfNormal(\"σ\",10)\n",
    "    σmod=pm.HalfNormal(\"σmod\",10)\n",
    "    \n",
    "    #uncertain model forced responses\n",
    "    F={}\n",
    "    for forcing in [\"GHG\",\"nat\"]:\n",
    "        F[forcing]=pm.Normal(\"F\"+forcing,mu=μ[forcing],sigma=σmod,shape=nt,\\\n",
    "                             observed = GISS_simulations[\"hist-\"+forcing])\n",
    "    \n",
    "\n",
    "    \n",
    "    #Observed mean\n",
    "    μ_obs=0.\n",
    "    for forcing in [\"GHG\",\"nat\"]:\n",
    "        μ_obs += β[forcing]*μ[forcing]\n",
    "    \n",
    "    obs=pm.Normal(\"obs\",mu=μ_obs,sigma=σ,observed=gistemp)\n",
    "\n",
    "with allforcingsmodel_noaerosol:\n",
    "    trace_noaerosol=pm.sample(return_inferencedata=True)"
   ]
  },
  {
   "cell_type": "code",
   "execution_count": null,
   "id": "technical-protest",
   "metadata": {},
   "outputs": [],
   "source": [
    "\n",
    "with pm.Model() as allforcingsmodel_noGHG:\n",
    "    #Coefficients of forced responses\n",
    "    β={}\n",
    "    #Latent true forced responses\n",
    "    μ={}\n",
    "    for forcing in [\"aer\",\"nat\"]:\n",
    "        β[forcing]=pm.Normal(\"β\"+forcing,0,10)\n",
    "        μ[forcing]=pm.Normal(\"μ\"+forcing,0,10,shape=nt)\n",
    "    \n",
    "    \n",
    "    #Internal variability\n",
    "    σ=pm.HalfNormal(\"σ\",10)\n",
    "    σmod=pm.HalfNormal(\"σmod\",10)\n",
    "    \n",
    "    #uncertain model forced responses\n",
    "    F={}\n",
    "    for forcing in [\"aer\",\"nat\"]:\n",
    "        F[forcing]=pm.Normal(\"F\"+forcing,mu=μ[forcing],sigma=σmod,shape=nt,\\\n",
    "                             observed = GISS_simulations[\"hist-\"+forcing])\n",
    "    \n",
    "\n",
    "    \n",
    "    #Observed mean\n",
    "    μ_obs=0.\n",
    "    for forcing in [\"aer\",\"nat\"]:\n",
    "        μ_obs += β[forcing]*μ[forcing]\n",
    "    \n",
    "    obs=pm.Normal(\"obs\",mu=μ_obs,sigma=σ,observed=gistemp)\n",
    "\n",
    "with allforcingsmodel_noGHG:\n",
    "    trace_noGHG=pm.sample(return_inferencedata=True)"
   ]
  },
  {
   "cell_type": "code",
   "execution_count": null,
   "id": "closing-palmer",
   "metadata": {},
   "outputs": [],
   "source": [
    "with pm.Model() as just_noise:\n",
    "    #Coefficients of forced responses\n",
    "    \n",
    "    \n",
    "    #Internal variability\n",
    "    σ=pm.HalfNormal(\"σ\",10)\n",
    "    \n",
    "    obs=pm.Normal(\"obs\",mu=np.zeros(nt),sigma=σ,observed=gistemp)\n",
    "\n",
    "with just_noise:\n",
    "    trace_just_noise=pm.sample(return_inferencedata=True)"
   ]
  },
  {
   "cell_type": "code",
   "execution_count": null,
   "id": "protecting-tomorrow",
   "metadata": {},
   "outputs": [],
   "source": [
    "with pm.Model() as just_ar1:\n",
    "    #Coefficients of forced responses\n",
    "    theta=pm.Normal(\"theta\",0,2)\n",
    "    \n",
    "    #Internal variability\n",
    "    σ=pm.HalfNormal(\"σ\",10)\n",
    "    \n",
    "    obs=pm.AR1(\"obs\",k=theta,tau_e=1./tt.pow(σ,2),observed=gistemp)\n",
    "\n",
    "with just_ar1:\n",
    "    trace_just_ar1=pm.sample(return_inferencedata=True)"
   ]
  },
  {
   "cell_type": "code",
   "execution_count": null,
   "id": "adjustable-trade",
   "metadata": {},
   "outputs": [],
   "source": [
    "TRACES={\"all\":allforcingstrace,\"noaer\":trace_noaerosol,\"noGHG\":trace_noGHG,\\\n",
    "        \"white noise\":trace_just_noise,\"noother\":trace_noresidual}"
   ]
  },
  {
   "cell_type": "code",
   "execution_count": null,
   "id": "checked-poster",
   "metadata": {},
   "outputs": [],
   "source": [
    "for k in TRACES.keys():\n",
    "    TRACES[k].sample_stats[\"log_likelihood\"]=TRACES[k].log_likelihood.obs"
   ]
  },
  {
   "cell_type": "code",
   "execution_count": null,
   "id": "ancient-martin",
   "metadata": {},
   "outputs": [],
   "source": [
    "az.compare(TRACES)"
   ]
  },
  {
   "cell_type": "code",
   "execution_count": null,
   "id": "sustained-drilling",
   "metadata": {},
   "outputs": [],
   "source": [
    "az.loo(allforcingstrace,var_name=\"obs\")"
   ]
  },
  {
   "cell_type": "code",
   "execution_count": null,
   "id": "satellite-relative",
   "metadata": {},
   "outputs": [],
   "source": [
    "az.loo(trace_noaerosol,var_name=\"obs\")"
   ]
  },
  {
   "cell_type": "code",
   "execution_count": null,
   "id": "smoking-constitutional",
   "metadata": {},
   "outputs": [],
   "source": [
    "az.loo(trace_noGHG,var_name=\"obs\")"
   ]
  },
  {
   "cell_type": "code",
   "execution_count": null,
   "id": "acute-burlington",
   "metadata": {},
   "outputs": [],
   "source": [
    "az.loo(trace_noresidual,var_name=\"obs\")"
   ]
  },
  {
   "cell_type": "code",
   "execution_count": null,
   "id": "dress-festival",
   "metadata": {},
   "outputs": [],
   "source": [
    "az.loo(trace_just_noise,var_name=\"obs\")"
   ]
  },
  {
   "cell_type": "markdown",
   "id": "answering-investigation",
   "metadata": {},
   "source": [
    "# Scratchwork"
   ]
  },
  {
   "cell_type": "code",
   "execution_count": null,
   "id": "latter-alabama",
   "metadata": {},
   "outputs": [],
   "source": [
    "with pm.Model() as ar1_easy_model:\n",
    "    rho = pm.Uniform(\"rho\",-1,1,shape=1)\n",
    "    sigma=pm.HalfNormal(\"sigma\",10,shape=1)\n",
    "    # process mean\n",
    "    center = pm.Normal(\"center\", mu=0.0, sigma=10.0,shape=nt)\n",
    "  \n",
    "\n",
    "\n",
    "\n",
    "    likelihood = pm.AR1(\"y\", k=rho, tau_e=1./tt.pow(sigma,2), observed=GISS_simulations[\"historical\"].asma()-center)\n",
    "with ar1_easy_model:\n",
    "    ar1trace = pm.sample(1000)\n",
    "    ar1_idata = az.from_pymc3(ar1trace)"
   ]
  },
  {
   "cell_type": "code",
   "execution_count": null,
   "id": "funded-resolution",
   "metadata": {},
   "outputs": [],
   "source": [
    "with pm.Model() as Gaussian_easy_model:\n",
    "    sigma=pm.HalfNormal(\"sigma\",10,shape=1)\n",
    "    center = pm.Normal(\"center\", mu=0.0, sigma=10.0,shape=nt)\n",
    "    likelihood = pm.Normal(\"y\", mu=center,sigma=sigma, observed=GISS_simulations[\"historical\"].asma())\n",
    "with Gaussian_easy_model:\n",
    "    Gaussiantrace = pm.sample(1000)\n",
    "    Gaussian_idata = az.from_pymc3(Gaussiantrace)"
   ]
  },
  {
   "cell_type": "code",
   "execution_count": null,
   "id": "seeing-browser",
   "metadata": {},
   "outputs": [],
   "source": [
    "az.compare({\"white\": Gaussian_idata,\"ar1\":ar1_idata})"
   ]
  },
  {
   "cell_type": "code",
   "execution_count": null,
   "id": "leading-needle",
   "metadata": {},
   "outputs": [],
   "source": [
    "sns.kdeplot(np.sqrt(trace[\"rho\"]).flatten())\n",
    "#sns.kdeplot(piC_AR1_trace[\"ϕ\"].flatten())"
   ]
  },
  {
   "cell_type": "code",
   "execution_count": null,
   "id": "specialized-engine",
   "metadata": {},
   "outputs": [],
   "source": [
    "az.plot_hdi(y,idata.posterior.center,smooth=False,hdi_prob=.99)"
   ]
  },
  {
   "cell_type": "markdown",
   "id": "improving-pledge",
   "metadata": {},
   "source": [
    "# Is there a common forced response across ensemble members?\n"
   ]
  },
  {
   "cell_type": "code",
   "execution_count": null,
   "id": "virgin-creativity",
   "metadata": {},
   "outputs": [],
   "source": [
    "experiment=\"historical\"\n",
    "\n",
    "#prepare the data\n",
    "forced_ensemble = GISS_simulations[experiment]\n",
    "nmembers,nt=forced_ensemble.shape\n",
    "t=np.arange(nt)+1850\n",
    "piC=GISS_simulations[\"piControl\"]\n",
    "nt_piC=len(piC)\n",
    "nchunks=int(nt_piC/nt)\n",
    "piC_ensemble=piC[:nchunks*nt].reshape(nchunks,nt)\n",
    "\n"
   ]
  },
  {
   "cell_type": "code",
   "execution_count": null,
   "id": "whole-separate",
   "metadata": {},
   "outputs": [],
   "source": [
    "# Plot of ensemble members "
   ]
  },
  {
   "cell_type": "code",
   "execution_count": null,
   "id": "heavy-confidence",
   "metadata": {},
   "outputs": [],
   "source": [
    "tmp=[plt.plot(t,forced_ensemble[i].asma(),\"k\",alpha=1,lw=.5,c=cm.magma(float(i)/nmembers)) for i in range(nmembers)]\n",
    "#plt.plot(t,np.average(forced_ensemble.asma(),axis=0),c=\"k\",lw=3)\n",
    "plt.ylabel(\"ΔT\")"
   ]
  },
  {
   "cell_type": "markdown",
   "id": "acoustic-start",
   "metadata": {},
   "source": [
    "# Fixed Effect \n",
    "The individual forced ensemble members $m_i$ reflect a common forced response $\\mu$ and internal variability, modeled as white noise:\n",
    "\\begin{equation}\n",
    "m_i \\sim N(\\mu,\\sigma)\n",
    "\\end{equation}\n",
    "Moreover, we assume the pre-industrial control simulations $p_i$ have the same internal variability and no forced response:\n",
    "$$ p_i \\sim N(0,\\sigma) $$"
   ]
  },
  {
   "cell_type": "code",
   "execution_count": null,
   "id": "increasing-truth",
   "metadata": {},
   "outputs": [],
   "source": [
    "with pm.Model() as fixedeffect:\n",
    "    #Prior on latent forced response\n",
    "    μ=pm.Normal(\"μ\",np.zeros_like(nt),10,shape=nt)\n",
    "    #Prior on model-simulated internal variability\n",
    "    #σ=pm.HalfNormal(\"σ\",10)\n",
    "    σ=from_posterior(\"σ\",piCtrace[\"σ\"])\n",
    "    ensemble_likelihood=pm.Normal(\"ensemble_likelihood\",μ,σ,observed=forced_ensemble)\n",
    "    #piC_likelihood=pm.Normal(\"piC_likelihood\",0,σ,observed=piC_ensemble)\n",
    "    \n",
    "with fixedeffect:\n",
    "    fixedtrace=pm.sample(return_inferencedata=True)"
   ]
  },
  {
   "cell_type": "markdown",
   "id": "imperial-scotland",
   "metadata": {},
   "source": [
    "# Random effects \n",
    "The individual forced ensemble members $m_i$ reflect a forced response $\\theta_i$ and internal variability, modeled as white noise:\n",
    "$$ m_i \\sim N(\\theta_i,\\sigma) $$\n",
    "The forced responses in each individual simulation are assumed to be normally distributed around a common response\n",
    "$$\\Theta_i \\sim N(\\mu,\\tau)$$\n",
    "Moreover, we assume the pre-industrial control simulations $p_i$ have the same internal variability and no forced response:\n",
    "$$ p_i \\sim N(0,\\sigma) $$"
   ]
  },
  {
   "cell_type": "code",
   "execution_count": null,
   "id": "fifth-onion",
   "metadata": {},
   "outputs": [],
   "source": [
    "#Is there evidence for nonhomogeneity?\n",
    "with pm.Model() as randomeffect:\n",
    "    #prior on true common forced response\n",
    "    μ=pm.Normal(\"μ\",np.zeros_like(nt),10,shape=nt)\n",
    "    #prior on Inter-ensemble member variation\n",
    "    τ=pm.HalfNormal(\"τ\",10)\n",
    "    #Prior on Common internal variability\n",
    "   # σ = pm.HalfNormal(\"σ\",10)\n",
    "    σ=from_posterior(\"σ\",piCtrace[\"σ\"])\n",
    "    #Forced response in each ensemble member\n",
    "    θ=pm.Normal('θ',μ,sd=τ,shape=forced_ensemble.shape)\n",
    "    ensemble_likelihood=pm.Normal(\"ensemble_likelihood\",θ,sd=σ,observed=forced_ensemble)\n",
    "    #piC_likelihood = pm.Normal(\"piC_likelihood\",np.zeros_like(nt),sd=σ,observed=piC_ensemble)"
   ]
  },
  {
   "cell_type": "code",
   "execution_count": null,
   "id": "incoming-reggae",
   "metadata": {},
   "outputs": [],
   "source": [
    "with randomeffect:\n",
    "    randomtrace=pm.sample(return_inferencedata=True)"
   ]
  },
  {
   "cell_type": "code",
   "execution_count": null,
   "id": "legendary-march",
   "metadata": {},
   "outputs": [],
   "source": [
    "az.plot_hdi(y,fixedtrace.posterior.μ,smooth=False,hdi_prob=.9)\n",
    "az.plot_hdi(y,randomtrace.posterior.μ,smooth=False,hdi_prob=.9,color=\"b\")"
   ]
  },
  {
   "cell_type": "code",
   "execution_count": null,
   "id": "joined-balloon",
   "metadata": {},
   "outputs": [],
   "source": [
    "#posterior for inter-ensemble spread in forced response\n",
    "az.plot_posterior(randomtrace.posterior.τ)"
   ]
  },
  {
   "cell_type": "code",
   "execution_count": null,
   "id": "warming-baghdad",
   "metadata": {},
   "outputs": [],
   "source": [
    "#A higher log-score (or a lower deviance) indicates a model with better predictive accuracy\n",
    "az.waic(fixedtrace,var_name=\"ensemble_likelihood\")"
   ]
  },
  {
   "cell_type": "code",
   "execution_count": null,
   "id": "descending-element",
   "metadata": {},
   "outputs": [],
   "source": [
    "az.waic(randomtrace,var_name=\"ensemble_likelihood\")"
   ]
  },
  {
   "cell_type": "code",
   "execution_count": null,
   "id": "fresh-reviewer",
   "metadata": {},
   "outputs": [],
   "source": [
    "#Constitutes (some, weak) evidence for a random effect?\n",
    "az.compare({\"fixed\":fixedtrace,\"random\":randomtrace})"
   ]
  },
  {
   "cell_type": "markdown",
   "id": "celtic-garage",
   "metadata": {},
   "source": [
    "## Volcanic forcing: does it depend on background state?\n",
    "Restrict forced response to years where we know there was a volcanic eruption"
   ]
  },
  {
   "cell_type": "code",
   "execution_count": null,
   "id": "framed-italic",
   "metadata": {},
   "outputs": [],
   "source": [
    "lower=az.hdi(randomtrace.posterior.μ,hdi_prob=.99).μ[:,0]\n",
    "upper=az.hdi(randomtrace.posterior.μ,hdi_prob=.99).μ[:,1]\n",
    "response_present=np.where(np.sign(lower*upper)>0)[0]\n",
    "t[response_present]"
   ]
  },
  {
   "cell_type": "code",
   "execution_count": null,
   "id": "russian-perspective",
   "metadata": {},
   "outputs": [],
   "source": [
    "tmp=[plt.plot(t[response_present],forced_ensemble.asma()[:,response_present][i],\"o\") for i in range(nmembers)]\n",
    "plt.ylabel(\"ΔT\")"
   ]
  },
  {
   "cell_type": "code",
   "execution_count": null,
   "id": "authorized-consultation",
   "metadata": {},
   "outputs": [],
   "source": [
    "pinatubo=response_present[int(np.where(t[response_present]==1991)[0]):]\n",
    "#prepare the data\n",
    "forced_ensemble_pinatubo = GISS_simulations[experiment].asma()[:,pinatubo]\n",
    "nmembers_pinatubo,nt_pinatubo=forced_ensemble_pinatubo.shape\n",
    "\n",
    "\n",
    "nchunks_pinatubo=int(nt_piC/nt_pinatubo)\n",
    "piC_ensemble_pinatubo=piC[:nchunks_pinatubo*nt_pinatubo].reshape(nchunks_pinatubo,nt_pinatubo)"
   ]
  },
  {
   "cell_type": "code",
   "execution_count": null,
   "id": "bridal-recycling",
   "metadata": {},
   "outputs": [],
   "source": [
    "#Is there evidence for nonhomogeneity?\n",
    "with pm.Model() as randomeffect_pinatubo:\n",
    "    #prior on true common forced response\n",
    "    μ=pm.Normal(\"μ\",np.zeros_like(nt_pinatubo),10,shape=nt_pinatubo)\n",
    "    #prior on Inter-ensemble member variation\n",
    "    τ=pm.HalfNormal(\"τ\",10)\n",
    "    #Prior on Common internal variability\n",
    "    σ = pm.HalfNormal(\"σ\",10)\n",
    "    #Forced response in each ensemble member\n",
    "    θ=pm.Normal('θ',μ,sd=τ,shape=forced_ensemble_pinatubo.shape)\n",
    "    obs=pm.Normal(\"obs\",θ,sd=σ,observed=forced_ensemble_pinatubo)\n",
    "    piC_likelihood = pm.Normal(\"piC_likelihood\",np.zeros_like(nt_pinatubo),sd=σ,observed=piC_ensemble_pinatubo)"
   ]
  },
  {
   "cell_type": "code",
   "execution_count": null,
   "id": "unexpected-anaheim",
   "metadata": {},
   "outputs": [],
   "source": [
    "with randomeffect_pinatubo:\n",
    "    tracepinatubo=pm.sample(return_inferencedata=True)"
   ]
  },
  {
   "cell_type": "code",
   "execution_count": null,
   "id": "latest-march",
   "metadata": {},
   "outputs": [],
   "source": [
    "az.plot_posterior(tracepinatubo.posterior.τ,kind=\"hist\")"
   ]
  },
  {
   "cell_type": "code",
   "execution_count": null,
   "id": "black-chicken",
   "metadata": {},
   "outputs": [],
   "source": [
    "az.plot_posterior(tracepinatubo.posterior.σ,kind=\"hist\")"
   ]
  },
  {
   "cell_type": "code",
   "execution_count": null,
   "id": "capable-terrorism",
   "metadata": {},
   "outputs": [],
   "source": [
    "az.plot_hdi(np.arange(nt_pinatubo)+1991,tracepinatubo.posterior.μ,smooth=False)"
   ]
  },
  {
   "cell_type": "markdown",
   "id": "comfortable-external",
   "metadata": {},
   "source": [
    "# Efficient leave-one-out cross validation for Bayesian non-factorized normal and Student-t models\n"
   ]
  },
  {
   "cell_type": "code",
   "execution_count": null,
   "id": "religious-instrumentation",
   "metadata": {},
   "outputs": [],
   "source": [
    "\n",
    "def covariance_ar1(sigma,phi,N):\n",
    "    δ=np.arange(N)\n",
    "    imj=np.abs(np.subtract.outer(δ,δ))\n",
    "    cov_ar1=sigma**2/(1-phi**2)*phi**imj\n",
    "    return cov_ar1\n",
    "\n",
    "def covariance_FD(σ,δ,N):\n",
    "    \n",
    "    D=np.arange(nt)\n",
    "    imj=np.abs(np.subtract.outer(D,D))\n",
    "    cov_FD= (σ**2 * np.sin(np.pi*δ)* special.gamma(1-2*δ) * special.gamma(imj+δ))/\\\n",
    "    (np.pi*special.gamma(imj+1-δ))\n",
    "    return cov_FD\n",
    "def covariance_Gaussian(sigma,N):\n",
    "    return sigma**2*np.identity(N)\n",
    "def pointwise_loglik(y,mui,sigmai):\n",
    "    return -0.5*np.log(2*np.pi) - 0.5*np.log(sigmai**2) - 0.5*(y-mui)**2/sigmai**2"
   ]
  },
  {
   "cell_type": "code",
   "execution_count": null,
   "id": "extensive-panama",
   "metadata": {},
   "outputs": [],
   "source": [
    "with pm.Model() as RED_NOISE_PLUS_FORCING_MODEL:\n",
    "\n",
    "    σ_GCM=pm.HalfNormal(\"σ_GCM\",10)\n",
    "    ϕ=pm.Uniform(\"ϕ\",-1,1)\n",
    "    #observed scaling factors\n",
    "    β=pm.Normal(\"β\",0,10)\n",
    "    \n",
    "    σ_obs=pm.HalfNormal(\"σ_obs\",10)\n",
    "   \n",
    "    #assume the autocorrelation in the obs is the same as that in the models\n",
    "    \n",
    "    \n",
    "    \n",
    "    #AR(1) covariance matrix\n",
    "    δ=np.arange(nt)\n",
    "    imj=np.abs(np.subtract.outer(δ,δ))\n",
    "    cov=tt.pow(σ_GCM,2)/(1-tt.pow(ϕ,2))*tt.pow(ϕ,imj)\n",
    "\n",
    "    chol=tt.slinalg.cholesky(cov)\n",
    "    \n",
    "    covobs=tt.pow(σ_obs,2)/(1-tt.pow(ϕ,2))*tt.pow(ϕ,imj)\n",
    "\n",
    "    chol_obs=tt.slinalg.cholesky(covobs)\n",
    "    \n",
    "    μ=pm.Normal(\"μ\",0,10,shape=nt)\n",
    "    \n",
    "    F=pm.MvNormal(\"likelihood_hist\",mu=μ,chol=chol,\\\n",
    "                             observed= GISS_simulations[\"historical\"])\n",
    "    picontrol=pm.MvNormal(\"likelihood_piControl\",mu=np.zeros(nt),chol=chol,\n",
    "                         observed=GISS_simulations[\"piControl\"])\n",
    "    μ_obs=β*μ\n",
    "    obs=pm.MvNormal(\"obs\",mu=μ_obs,chol=chol_obs,observed=gistemp)"
   ]
  },
  {
   "cell_type": "code",
   "execution_count": null,
   "id": "supposed-wallet",
   "metadata": {},
   "outputs": [],
   "source": [
    "with pm.Model() as WHITE_NOISE_PLUS_FORCING_MODEL:\n",
    "\n",
    "    σ_GCM=pm.HalfNormal(\"σ_GCM\",10)\n",
    "    \n",
    "    #observed scaling factors\n",
    "    β=pm.Normal(\"β\",0,10)\n",
    "    \n",
    "    σ_obs=pm.HalfNormal(\"σ_obs\",10)\n",
    "   \n",
    "    #assume the autocorrelation in the obs is the same as that in the models\n",
    "    \n",
    "    \n",
    "    \n",
    "    #Gaussian covariance matrix\n",
    "    \n",
    "    cov=tt.pow(σ_GCM,2)*np.identity(nt)\n",
    "\n",
    "    chol=tt.slinalg.cholesky(cov)\n",
    "    \n",
    "    covobs=tt.pow(σ_obs,2)*np.identity(nt)\n",
    "\n",
    "    chol_obs=tt.slinalg.cholesky(covobs)\n",
    "    \n",
    "    μ=pm.Normal(\"μ\",0,10,shape=nt)\n",
    "    \n",
    "    F=pm.MvNormal(\"likelihood_hist\",mu=μ,chol=chol,\\\n",
    "                             observed= GISS_simulations[\"historical\"])\n",
    "    picontrol=pm.MvNormal(\"likelihood_piControl\",mu=np.zeros(nt),chol=chol,\n",
    "                         observed=GISS_simulations[\"piControl\"])\n",
    "    μ_obs=β*μ\n",
    "    obs=pm.MvNormal(\"obs\",mu=μ_obs,chol=chol_obs,observed=gistemp)"
   ]
  },
  {
   "cell_type": "code",
   "execution_count": null,
   "id": "vietnamese-twins",
   "metadata": {},
   "outputs": [],
   "source": [
    "with RED_NOISE_PLUS_FORCING_MODEL:\n",
    "    RED_NOISE_PLUS_FORCING_TRACE=pm.sample(return_inferencedata=True)\n",
    "with WHITE_NOISE_PLUS_FORCING_MODEL:\n",
    "    WHITE_NOISE_PLUS_FORCING_TRACE=pm.sample(return_inferencedata=True)"
   ]
  },
  {
   "cell_type": "code",
   "execution_count": null,
   "id": "former-brooks",
   "metadata": {},
   "outputs": [],
   "source": [
    "with pm.Model() as RED_NOISE_ONLY_MODEL:\n",
    "    σ_GCM=pm.HalfNormal(\"σ_GCM\",10)\n",
    "    ϕ=pm.Uniform(\"ϕ\",-1,1)\n",
    "    #observed scaling factors\n",
    "   # β=pm.Normal(\"β\",0,10)\n",
    "    \n",
    "    σ_obs=pm.HalfNormal(\"σ_obs\",10)\n",
    "   \n",
    "    #assume the autocorrelation in the obs is the same as that in the models\n",
    "    \n",
    "    \n",
    "    \n",
    "    #AR(1) covariance matrix\n",
    "    δ=np.arange(nt)\n",
    "    imj=np.abs(np.subtract.outer(δ,δ))\n",
    "    cov=tt.pow(σ_GCM,2)/(1-tt.pow(ϕ,2))*tt.pow(ϕ,imj)\n",
    "\n",
    "    chol=tt.slinalg.cholesky(cov)\n",
    "    \n",
    "    covobs=tt.pow(σ_obs,2)/(1-tt.pow(ϕ,2))*tt.pow(ϕ,imj)\n",
    "\n",
    "    chol_obs=tt.slinalg.cholesky(covobs)\n",
    "    \n",
    "    μ=pm.Normal(\"μ\",0,10,shape=nt)\n",
    "    \n",
    "    F=pm.MvNormal(\"likelihood_hist\",mu=μ,chol=chol,\\\n",
    "                             observed= GISS_simulations[\"historical\"])\n",
    "    picontrol=pm.MvNormal(\"likelihood_piControl\",mu=np.zeros(nt),chol=chol,\n",
    "                         observed=GISS_simulations[\"piControl\"])\n",
    "    μ_obs=np.zeros(nt)\n",
    "    obs=pm.MvNormal(\"obs\",mu=μ_obs,chol=chol_obs,observed=gistemp)\n",
    " "
   ]
  },
  {
   "cell_type": "code",
   "execution_count": null,
   "id": "sublime-government",
   "metadata": {},
   "outputs": [],
   "source": [
    "with pm.Model() as WHITE_NOISE_ONLY_MODEL:\n",
    "    σ_GCM=pm.HalfNormal(\"σ_GCM\",10)\n",
    "  \n",
    "    #observed scaling factors\n",
    "   # β=pm.Normal(\"β\",0,10)\n",
    "    \n",
    "    σ_obs=pm.HalfNormal(\"σ_obs\",10)\n",
    "   \n",
    "    #assume the autocorrelation in the obs is the same as that in the models\n",
    "    \n",
    "    \n",
    "    \n",
    "    \n",
    "    \n",
    "    μ=pm.Normal(\"μ\",0,10,shape=nt)\n",
    "    \n",
    "    F=pm.Normal(\"likelihood_hist\",mu=μ,sigma=σ_GCM,\\\n",
    "                             observed= GISS_simulations[\"historical\"])\n",
    "    picontrol=pm.Normal(\"likelihood_piControl\",mu=np.zeros(nt),sigma=σ_GCM,\n",
    "                         observed=GISS_simulations[\"piControl\"])\n",
    "    μ_obs=np.zeros(nt)\n",
    "    obs=pm.Normal(\"obs\",mu=μ_obs,sigma=σ_obs,observed=gistemp)"
   ]
  },
  {
   "cell_type": "code",
   "execution_count": null,
   "id": "solar-healing",
   "metadata": {},
   "outputs": [],
   "source": [
    "with pm.Model() as LONG_MEMORY_ONLY_MODEL:\n",
    "    \n",
    "    σ_GCM=pm.HalfNormal(\"σ\",10)\n",
    "    σ_obs=pm.HalfNormal(\"σ_obs\",10)\n",
    "    δ=pm.Uniform(\"δ\",0,.5)\n",
    "    D=np.arange(nt)\n",
    "    imj=np.abs(np.subtract.outer(D,D))\n",
    "    cov= (tt.pow(σ_GCM,2) * tt.sin(np.pi*δ)* tt.gamma(1-2*δ) * tt.gamma(imj+δ))/(np.pi*tt.gamma(imj+1-δ))\n",
    "    chol=tt.slinalg.cholesky(cov)\n",
    "    \n",
    "    cov_obs= (tt.pow(σ_obs,2) * tt.sin(np.pi*δ)* tt.gamma(1-2*δ) * tt.gamma(imj+δ))/(np.pi*tt.gamma(imj+1-δ))\n",
    "    chol_obs=tt.slinalg.cholesky(cov_obs)\n",
    "    \n",
    "    μ=pm.Normal(\"μ\",0,10,shape=nt)\n",
    "    \n",
    "    #use piControl to train the noise model\n",
    "\n",
    "    F=pm.MvNormal(\"likelihood_hist\",mu=μ,chol=chol,\\\n",
    "                             observed= GISS_simulations[\"historical\"])\n",
    "    picontrol=pm.MvNormal(\"likelihood_piControl\",mu=np.zeros(nt),chol=chol,\n",
    "                         observed=GISS_simulations[\"piControl\"])\n",
    "    μ_obs=np.zeros(nt)\n",
    "    obs=pm.MvNormal(\"obs\",mu=μ_obs,chol=chol_obs,observed=gistemp)"
   ]
  },
  {
   "cell_type": "code",
   "execution_count": null,
   "id": "adopted-redhead",
   "metadata": {},
   "outputs": [],
   "source": []
  },
  {
   "cell_type": "code",
   "execution_count": null,
   "id": "immediate-defense",
   "metadata": {},
   "outputs": [],
   "source": [
    "with pm.Model() as LONG_MEMORY_PLUS_FORCING_MODEL:\n",
    "\n",
    "    β=pm.Normal(\"β\",0,10)\n",
    "    σ_GCM=pm.HalfNormal(\"σ\",10)\n",
    "    σ_obs=pm.HalfNormal(\"σ_obs\",10)\n",
    "    \n",
    "    δ=pm.Uniform(\"δ\",0,.5)\n",
    "    D=np.arange(nt)\n",
    "    imj=np.abs(np.subtract.outer(D,D))\n",
    "    \n",
    "    cov= (tt.pow(σ_GCM,2) * tt.sin(np.pi*δ)* tt.gamma(1-2*δ) * tt.gamma(imj+δ))/(np.pi*tt.gamma(imj+1-δ))\n",
    "    chol=tt.slinalg.cholesky(cov)\n",
    "    \n",
    "    cov_obs= (tt.pow(σ_obs,2) * tt.sin(np.pi*δ)* tt.gamma(1-2*δ) * tt.gamma(imj+δ))/(np.pi*tt.gamma(imj+1-δ))\n",
    "    chol_obs=tt.slinalg.cholesky(cov_obs)\n",
    "    \n",
    "    #use piControl to train the noise model\n",
    "    \n",
    "    μ=pm.Normal(\"μ\",0,10,shape=nt)\n",
    "\n",
    "    F=pm.MvNormal(\"likelihood_hist\",mu=μ,chol=chol,\\\n",
    "                             observed= GISS_simulations[\"historical\"])\n",
    "    picontrol=pm.MvNormal(\"likelihood_piControl\",mu=np.zeros(nt),chol=chol,\n",
    "                         observed=GISS_simulations[\"piControl\"])\n",
    "    μ_obs=β*μ\n",
    "    obs=pm.MvNormal(\"obs\",mu=μ_obs,chol=chol_obs,observed=gistemp)"
   ]
  },
  {
   "cell_type": "code",
   "execution_count": null,
   "id": "backed-addition",
   "metadata": {},
   "outputs": [],
   "source": [
    "with LONG_MEMORY_PLUS_FORCING_MODEL:\n",
    "    LONG_MEMORY_PLUS_FORCING_TRACE=pm.sample(return_inferencedata=True)\n",
    "with LONG_MEMORY_ONLY_MODEL:\n",
    "    LONG_MEMORY_ONLY_TRACE=pm.sample(return_inferencedata=True)"
   ]
  },
  {
   "cell_type": "code",
   "execution_count": null,
   "id": "unlikely-repair",
   "metadata": {},
   "outputs": [],
   "source": [
    "az.compare({\"white only\":WHITE_NOISE_ONLY_TRACE,\n",
    "           \"white plus forcing\":WHITE_NOISE_PLUS_FORCING_TRACE})"
   ]
  },
  {
   "cell_type": "code",
   "execution_count": null,
   "id": "useful-omega",
   "metadata": {},
   "outputs": [],
   "source": []
  },
  {
   "cell_type": "code",
   "execution_count": null,
   "id": "featured-gazette",
   "metadata": {},
   "outputs": [],
   "source": [
    "with RED_NOISE_ONLY_MODEL:\n",
    "    RED_NOISE_ONLY_TRACE=pm.sample(return_inferencedata=True)"
   ]
  },
  {
   "cell_type": "code",
   "execution_count": null,
   "id": "automated-better",
   "metadata": {},
   "outputs": [],
   "source": [
    "def calculate_PLL_loo(trace):\n",
    "    posterior=trace.posterior\n",
    "    #All noise models have a white noise term\n",
    "    sigmas=getattr(posterior,\"σ_obs\").stack(sample=(\"chain\", \"draw\")).values\n",
    "    if hasattr(posterior,\"β\"):\n",
    "        betas=getattr(trace.posterior,\"β\").stack(sample=(\"chain\", \"draw\")).values\n",
    "        Fs=trace.posterior.μ.stack(sample=(\"chain\", \"draw\")).values\n",
    "        print(\"Using model-generated fingerprint\")\n",
    "        mean_func=lambda nsamp:betas[nsamp]*Fs[:,nsamp]\n",
    "    else:\n",
    "        mean_func = lambda nsamp:np.zeros(nt)\n",
    "        print(\"Setting fingerprint to 0\")\n",
    "    #AR(1) noise    \n",
    "    if hasattr(posterior,\"ϕ\"):\n",
    "        print(\"AR(1) noise\")\n",
    "        phis=getattr(trace.posterior,\"ϕ\").stack(sample=(\"chain\", \"draw\")).values    \n",
    "        cov_func=lambda nsamp: covariance_ar1(sigmas[nsamp],phis[nsamp],nt)\n",
    "    #FD noise\n",
    "    elif hasattr(posterior,\"δ\"):\n",
    "        print(\"FD noise\")\n",
    "        deltas=getattr(trace.posterior,\"δ\").stack(sample=(\"chain\", \"draw\")).values\n",
    "        cov_func=lambda nsamp: covariance_FD(deltas[nsamp],sigmas[nsamp],nt)\n",
    "    else:\n",
    "        print(\"Gaussian noise\")\n",
    "        cov_func=lambda nsamp:covariance_Gaussian(sigmas[nsamp],nt)\n",
    "        \n",
    "    PLL=np.zeros((4000,nt))\n",
    "    for nsamp in range(4000):\n",
    "        elpd=np.zeros(nt)\n",
    "        BigSigma=cov_func(nsamp)\n",
    "        Siginv=np.linalg.inv(BigSigma)\n",
    "        mu=mean_func(nsamp)\n",
    "        G=np.dot(Siginv,(gistemp-mu))\n",
    "        for i in range(nt):\n",
    "            gi=G[i]\n",
    "            cii=Siginv[i,i]\n",
    "            log_lik=-0.5*np.log(2*np.pi)+0.5*np.log(cii)-0.5*gi**2/cii\n",
    "            elpd[i]=log_lik\n",
    "        PLL[nsamp]=elpd\n",
    "    PLL_xr=xr.DataArray(PLL.reshape(4,1000,nt),\\\n",
    "                   coords={\"chain\":range(4),\"draw\":range(1000),\"time\":t},\\\n",
    "                   dims=[\"chain\",\"draw\",\"time\"])\n",
    "    trace.sample_stats[\"log_likelihood\"]=PLL_xr\n",
    "    print(az.loo(trace))\n",
    "    return PLL_xr"
   ]
  },
  {
   "cell_type": "code",
   "execution_count": null,
   "id": "indie-advantage",
   "metadata": {},
   "outputs": [],
   "source": [
    "PLL_xr=calculate_PLL_loo(LONG_MEMORY_ONLY_TRACE)"
   ]
  },
  {
   "cell_type": "code",
   "execution_count": null,
   "id": "invalid-empty",
   "metadata": {},
   "outputs": [],
   "source": [
    "PLL_white=calculate_PLL_loo(WHITE_NOISE_PLUS_FORCING_TRACE)"
   ]
  },
  {
   "cell_type": "code",
   "execution_count": null,
   "id": "durable-reflection",
   "metadata": {},
   "outputs": [],
   "source": [
    "PLL_red_f=calculate_PLL_loo(RED_NOISE_PLUS_FORCING_TRACE)"
   ]
  },
  {
   "cell_type": "code",
   "execution_count": null,
   "id": "informative-february",
   "metadata": {},
   "outputs": [],
   "source": [
    "plt.plot(y,PLL_xr.mean(dim=(\"chain\",\"draw\")))\n",
    "plt.plot(y,PLL_white.mean(dim=(\"chain\",\"draw\")))\n",
    "plt.plot(y,PLL_red_f.mean(dim=(\"chain\",\"draw\")))"
   ]
  },
  {
   "cell_type": "code",
   "execution_count": null,
   "id": "engaging-result",
   "metadata": {},
   "outputs": [],
   "source": [
    "print(\"long only\",PLL_xr.mean(dim=(\"chain\",\"draw\")).sum())\n",
    "print(\"white + F\",np.sum(PLL_white.mean(dim=(\"chain\",\"draw\"))))\n",
    "print(\"red + F\",np.sum(PLL_red_f.mean(dim=(\"chain\",\"draw\"))))\n",
    "#plt.plot(PLL_red_f.mean(dim=(\"chain\",\"draw\")))"
   ]
  },
  {
   "cell_type": "markdown",
   "id": "clinical-sauce",
   "metadata": {},
   "source": [
    "the results for long memory noise only are wacky because the values for delta can increase arbitrarily- the fit to the picontrol is bad, but we're assessing against the observations.  I think what this means is that the model is inflating delta to try and match the observations, but this is a time series - memory only works in one direction.  So I HAVE to do leave-future out, which is a bummer but doesn't really matter for this paper."
   ]
  },
  {
   "cell_type": "code",
   "execution_count": null,
   "id": "extreme-housing",
   "metadata": {},
   "outputs": [],
   "source": [
    "# what the hell is going on with FD noise only?  Its log likelihood looks fine- below white noise plus forcing.\n",
    "tmp=plt.hist(LONG_MEMORY_ONLY_TRACE.log_likelihood.obs.values.flatten())\n",
    "tmp=plt.hist(WHITE_NOISE_PLUS_FORCING_TRACE.log_likelihood.obs.values.flatten())\n",
    "tmp=plt.hist(RED_NOISE_PLUS_FORCING_TRACE.log_likelihood.obs.values.flatten())"
   ]
  },
  {
   "cell_type": "code",
   "execution_count": null,
   "id": "tribal-architect",
   "metadata": {},
   "outputs": [],
   "source": [
    "# Is it that obs looks so bad over the aerosol period that long-memory noise only is better?"
   ]
  },
  {
   "cell_type": "code",
   "execution_count": null,
   "id": "satisfied-decline",
   "metadata": {},
   "outputs": [],
   "source": [
    "PLL_xr=xr.DataArray(PLL.reshape(4,1000,nt),\\\n",
    "                   coords={\"chain\":range(4),\"draw\":range(1000),\"time\":t},\\\n",
    "                   dims=[\"chain\",\"draw\",\"time\"])\n",
    "\n",
    "\n",
    "RED_NOISE_PLUS_FORCED_RESPONSE_TRACE.sample_stats[\"log_likelihood\"]=PLL_xr\n",
    "az.loo(TRACE)"
   ]
  },
  {
   "cell_type": "code",
   "execution_count": null,
   "id": "chinese-sigma",
   "metadata": {},
   "outputs": [],
   "source": [
    "PLL_n=np.zeros((4000,nt))\n",
    "for nsamp in range(4000):\n",
    "    elpd=np.zeros(nt)\n",
    "    F=0.\n",
    "    phi=getattr(RED_NOISE_ONLY_TRACE.posterior,\"ϕ\").stack(sample=(\"chain\", \"draw\")).values[nsamp]\n",
    "    sigma=getattr(RED_NOISE_ONLY_TRACE.posterior,\"σ_obs\").stack(sample=(\"chain\", \"draw\")).values[nsamp]\n",
    "    beta=0.\n",
    "    BigSigma=covariance_ar1(sigma,phi,nt)\n",
    "    Siginv=np.linalg.inv(BigSigma)\n",
    "    G=np.dot(Siginv,(gistemp-0.))\n",
    "    for i in range(nt):\n",
    "        gi=G[i]\n",
    "        cii=Siginv[i,i]\n",
    "        log_lik=-0.5*np.log(2*np.pi)+0.5*np.log(cii)-0.5*gi**2/cii\n",
    "        elpd[i]=log_lik\n",
    "    PLL_n[nsamp]=elpd"
   ]
  },
  {
   "cell_type": "code",
   "execution_count": null,
   "id": "automotive-hometown",
   "metadata": {},
   "outputs": [],
   "source": []
  },
  {
   "cell_type": "code",
   "execution_count": null,
   "id": "dietary-lodge",
   "metadata": {},
   "outputs": [],
   "source": [
    "PLL_nxr=xr.DataArray(PLL_n.reshape(4,1000,nt),\\\n",
    "                   coords={\"chain\":range(4),\"draw\":range(1000),\"time\":t},\\\n",
    "                   dims=[\"chain\",\"draw\",\"time\"])\n",
    "\n",
    "\n",
    "RED_NOISE_ONLY_TRACE.sample_stats[\"log_likelihood\"]=PLL_nxr\n",
    "az.loo(RED_NOISE_ONLY_TRACE)"
   ]
  },
  {
   "cell_type": "code",
   "execution_count": null,
   "id": "centered-notification",
   "metadata": {},
   "outputs": [],
   "source": [
    "PLL_longmemonly=np.zeros((4000,nt))\n",
    "for nsamp in range(4000):\n",
    "    elpd=np.zeros(nt)\n",
    "    F=0.\n",
    "    δ=getattr(LONG_MEMORY_ONLY_TRACE.posterior,\"δ\").stack(sample=(\"chain\", \"draw\")).values[nsamp]\n",
    "    sigma=getattr(LONG_MEMORY_ONLY_TRACE.posterior,\"σ_obs\").stack(sample=(\"chain\", \"draw\")).values[nsamp]\n",
    "    beta=0.\n",
    "    BigSigma=covariance_FD(sigma,δ,nt)\n",
    "    Siginv=np.linalg.inv(BigSigma)\n",
    "    G=np.dot(Siginv,(gistemp-0.))\n",
    "    for i in range(nt):\n",
    "        gi=G[i]\n",
    "        cii=Siginv[i,i]\n",
    "        log_lik=-0.5*np.log(2*np.pi)+0.5*np.log(cii)-0.5*gi**2/cii\n",
    "        elpd[i]=log_lik\n",
    "    PLL_longmemonly[nsamp]=elpd\n",
    "\n",
    "PLL_lmoxr=xr.DataArray(PLL_longmemonly.reshape(4,1000,nt),\\\n",
    "                   coords={\"chain\":range(4),\"draw\":range(1000),\"time\":t},\\\n",
    "                   dims=[\"chain\",\"draw\",\"time\"])\n",
    "LONG_MEMORY_ONLY_TRACE.sample_stats[\"log_likelihood\"]=PLL_lmoxr\n",
    "az.loo(LONG_MEMORY_ONLY_TRACE)"
   ]
  },
  {
   "cell_type": "code",
   "execution_count": null,
   "id": "overall-endorsement",
   "metadata": {},
   "outputs": [],
   "source": [
    "plt.plot(y,np.average(PLL_longmemonly,axis=0))\n",
    "plt.plot(y,np.average(PLL_longmemF,axis=0))\n",
    "#plt.plot(WHITE_NOISE_PLUS_FORCING_TRACE.log_likelihood[\"obs\"].mean(dim=(\"chain\",\"draw\")))"
   ]
  },
  {
   "cell_type": "code",
   "execution_count": null,
   "id": "broad-oliver",
   "metadata": {},
   "outputs": [],
   "source": [
    "np.average(PLL_longmemonly)\n",
    "np.average(WHITE_NOISE_PLUS_FORCING_TRACE.log_likelihood[\"obs\"].mean(dim=(\"chain\",\"draw\")).values)"
   ]
  },
  {
   "cell_type": "code",
   "execution_count": null,
   "id": "reported-ministry",
   "metadata": {},
   "outputs": [],
   "source": [
    "PLL_longmemF=np.zeros((4000,nt))\n",
    "for nsamp in range(4000):\n",
    "    elpd=np.zeros(nt)\n",
    "    F=LONG_MEMORY_PLUS_FORCING_TRACE.posterior.μ.stack(sample=(\"chain\", \"draw\")).values[:,nsamp]\n",
    "    beta=getattr(LONG_MEMORY_PLUS_FORCING_TRACE.posterior,\"β\").stack(sample=(\"chain\", \"draw\")).values[nsamp]\n",
    "    δ=getattr(LONG_MEMORY_PLUS_FORCING_TRACE.posterior,\"δ\").stack(sample=(\"chain\", \"draw\")).values[nsamp]\n",
    "    sigma=getattr(LONG_MEMORY_PLUS_FORCING_TRACE.posterior,\"σ_obs\").stack(sample=(\"chain\", \"draw\")).values[nsamp]\n",
    "\n",
    "    BigSigma=covariance_FD(sigma,δ,nt)\n",
    "    Siginv=np.linalg.inv(BigSigma)\n",
    "    G=np.dot(Siginv,(gistemp-beta*F))\n",
    "    for i in range(nt):\n",
    "        gi=G[i]\n",
    "        cii=Siginv[i,i]\n",
    "        log_lik=-0.5*np.log(2*np.pi)+0.5*np.log(cii)-0.5*gi**2/cii\n",
    "        elpd[i]=log_lik\n",
    "    PLL_longmemF[nsamp]=elpd"
   ]
  },
  {
   "cell_type": "code",
   "execution_count": null,
   "id": "technological-tampa",
   "metadata": {},
   "outputs": [],
   "source": [
    "PLL_lmFxr=xr.DataArray(PLL_longmemF.reshape(4,1000,nt),\\\n",
    "                   coords={\"chain\":range(4),\"draw\":range(1000),\"time\":t},\\\n",
    "                   dims=[\"chain\",\"draw\",\"time\"])\n",
    "LONG_MEMORY_PLUS_FORCING_TRACE.sample_stats[\"log_likelihood\"]=PLL_lmFxr\n",
    "az.loo(LONG_MEMORY_PLUS_FORCING_TRACE)"
   ]
  },
  {
   "cell_type": "code",
   "execution_count": null,
   "id": "little-definition",
   "metadata": {},
   "outputs": [],
   "source": [
    "az.loo(WHITE_NOISE_PLUS_FORCING_TRACE)"
   ]
  },
  {
   "cell_type": "code",
   "execution_count": null,
   "id": "numerical-purchase",
   "metadata": {},
   "outputs": [],
   "source": [
    "az.compare({\"white only\":WHITE_NOISE_ONLY_TRACE,\"red only\": RED_NOISE_ONLY_TRACE,\\\n",
    "           \"white plus forcing\":WHITE_NOISE_PLUS_FORCING_TRACE,\\\n",
    "           \"red plus forcing\":RED_NOISE_PLUS_FORCED_RESPONSE_TRACE,\\\n",
    "           \"long memory only\":LONG_MEMORY_ONLY_TRACE,\\\n",
    "           \"long memory plus forcing\":LONG_MEMORY_PLUS_FORCING_TRACE})"
   ]
  },
  {
   "cell_type": "code",
   "execution_count": null,
   "id": "included-wallpaper",
   "metadata": {},
   "outputs": [],
   "source": [
    "ppd=pm.sample_posterior_predictive(LONG_MEMORY_ONLY_TRACE,model=LONG_MEMORY_ONLY_MODEL)"
   ]
  },
  {
   "cell_type": "code",
   "execution_count": null,
   "id": "danish-berkeley",
   "metadata": {},
   "outputs": [],
   "source": [
    "ppd_whiteF=pm.sample_posterior_predictive(WHITE_NOISE_PLUS_FORCING_TRACE,model=WHITE_NOISE_PLUS_FORCING_MODEL)"
   ]
  },
  {
   "cell_type": "code",
   "execution_count": null,
   "id": "global-wiring",
   "metadata": {},
   "outputs": [],
   "source": [
    "ppd_redF=pm.sample_posterior_predictive(RED_NOISE_PLUS_FORCING_TRACE,model=RED_NOISE_PLUS_FORCING_MODEL)"
   ]
  },
  {
   "cell_type": "code",
   "execution_count": null,
   "id": "identical-sentence",
   "metadata": {},
   "outputs": [],
   "source": [
    "tmp=[plt.plot(y,x,c=\"k\",alpha=.1,lw=.4) for x in ppd_whiteF[\"obs\"][-100:]]\n",
    "plt.plot(y,gistemp,lw=3)"
   ]
  },
  {
   "cell_type": "code",
   "execution_count": null,
   "id": "hawaiian-abraham",
   "metadata": {},
   "outputs": [],
   "source": [
    "\n",
    "az.plot_hdi(y,ppd_whiteF[\"obs\"],smooth=False,color=\"b\")\n",
    "az.plot_hdi(y,ppd_redF[\"obs\"],smooth=False)"
   ]
  },
  {
   "cell_type": "code",
   "execution_count": null,
   "id": "joint-teens",
   "metadata": {},
   "outputs": [],
   "source": [
    "tmp=[plt.plot(y,x,c=\"k\",alpha=.1,lw=.4) for x in ppd_redF[\"obs\"][-100:]]\n",
    "plt.plot(y,gistemp,lw=3)"
   ]
  },
  {
   "cell_type": "code",
   "execution_count": null,
   "id": "integral-locking",
   "metadata": {},
   "outputs": [],
   "source": [
    "tmp=[plt.plot(y,x,c=\"k\",alpha=.3,lw=.4) for x in ppd[\"obs\"][-100:]]\n",
    "plt.plot(y,gistemp)"
   ]
  },
  {
   "cell_type": "markdown",
   "id": "bored-giving",
   "metadata": {},
   "source": [
    "# Red noise with forcing"
   ]
  },
  {
   "cell_type": "code",
   "execution_count": null,
   "id": "aggregate-florida",
   "metadata": {},
   "outputs": [],
   "source": [
    "TRACE=RED_NOISE_PLUS_FORCED_RESPONSE_TRACE"
   ]
  },
  {
   "cell_type": "markdown",
   "id": "instructional-tumor",
   "metadata": {},
   "source": [
    "Fit the model using MCMC obtaining S samples from the posterior distribution of the parameters 𝜃."
   ]
  },
  {
   "cell_type": "code",
   "execution_count": null,
   "id": "cleared-entry",
   "metadata": {},
   "outputs": [],
   "source": [
    "SAMPS={}\n",
    "for x in TRACE.posterior.data_vars:\n",
    "    SAMPS[x]=getattr(TRACE.posterior,x) "
   ]
  },
  {
   "cell_type": "markdown",
   "id": "exceptional-gambling",
   "metadata": {},
   "source": [
    "For each of the S draws of 𝜃, compute the pointwise log-likelihood value for each of the N observations in y as described in Sect. 2. The results can be stored in an 𝑆×𝑁 matrix."
   ]
  },
  {
   "cell_type": "code",
   "execution_count": null,
   "id": "joint-search",
   "metadata": {},
   "outputs": [],
   "source": [
    "nchains,ndraws=SAMPS[\"β\"].shape\n",
    "PLL=np.zeros((nchains,ndraws,nt))\n",
    "for s in range(nchains):\n",
    "    for d in range(ndraws):\n",
    "        beta=SAMPS[\"β\"].values[s,d]\n",
    "        F=SAMPS[\"μ\"].values[s,d]\n",
    "        mu=beta*F\n",
    "        sigma=SAMPS[\"σ_obs\"].values[s,d]*SAMPS[\"γ\"].values[s,d]\n",
    "        phi=SAMPS[\"ϕ\"].values[s,d]\n",
    "        BigSigma=covariance_ar1(sigma,phi,nt)\n",
    "        Cneg1=np.linalg.inv(covmatrix)\n",
    "        Siginv=np.linalg.inv(BigSigma)\n",
    "        G_test=np.dot(Siginv,(gistemp-mu))\n",
    "        \n",
    "        for i in range(nt):\n",
    "            gi=G_test[i]\n",
    "            cii=Siginv[i,i]\n",
    "            log_lik=-0.5*np.log(2*np.pi)+0.5*np.log(cii)-0.5*gi**2/cii\n",
    "            PLL[s,d,i]=log_lik\n"
   ]
  },
  {
   "cell_type": "code",
   "execution_count": null,
   "id": "exotic-carter",
   "metadata": {},
   "outputs": [],
   "source": [
    "?az.psislw"
   ]
  },
  {
   "cell_type": "code",
   "execution_count": null,
   "id": "central-falls",
   "metadata": {},
   "outputs": [],
   "source": [
    "weights,stts=az.psislw(-PLL_xr.stack(sample=(\"chain\", \"draw\")), reff=0.8)\n",
    "w=weights.values\n",
    "PLL_r=PLL.reshape(4000,135)\n",
    "denom=np.sum(w,axis=1)\n",
    "np.sum(np.array([np.sum(-PLL_r[:,i]*w[i])/denom[i] for i in range(nt)]))"
   ]
  },
  {
   "cell_type": "code",
   "execution_count": null,
   "id": "amended-agriculture",
   "metadata": {},
   "outputs": [],
   "source": [
    "PLL_xr=xr.DataArray(PLL,\\\n",
    "                   coords={\"chain\":range(4),\"draw\":range(1000),\"time\":t},\\\n",
    "                   dims=[\"chain\",\"draw\",\"time\"])\n",
    "\n",
    "\n",
    "TRACE.sample_stats[\"log_likelihood\"]=-PLL_xr\n",
    "az.loo(TRACE)"
   ]
  },
  {
   "cell_type": "code",
   "execution_count": null,
   "id": "furnished-combining",
   "metadata": {},
   "outputs": [],
   "source": [
    "ALL_PLL[\"red noise with forcing\"]=PLL"
   ]
  },
  {
   "cell_type": "markdown",
   "id": "discrete-active",
   "metadata": {},
   "source": [
    "Run the PSIS algorithm from Vehtari et al. (2017) on the 𝑆×𝑁 matrix obtained in step 2 to obtain a PSIS-LOO-CV estimate. For convenience, the loo R package (Vehtari et al. 2018) provides this functionality."
   ]
  },
  {
   "cell_type": "code",
   "execution_count": null,
   "id": "stopped-shelf",
   "metadata": {},
   "outputs": [],
   "source": [
    "TRACE.sample_stats[\"log_likelihood\"]=PLL_xr\n",
    "az.loo(TRACE)"
   ]
  },
  {
   "cell_type": "markdown",
   "id": "confirmed-gross",
   "metadata": {},
   "source": [
    "Repeat the steps 1–3 for each model under consideration and perform model comparison based on the obtained PSIS-LOO-CV estimates."
   ]
  },
  {
   "cell_type": "markdown",
   "id": "designed-uzbekistan",
   "metadata": {},
   "source": [
    "## red noise, no forcing\n"
   ]
  },
  {
   "cell_type": "code",
   "execution_count": null,
   "id": "blind-clinic",
   "metadata": {},
   "outputs": [],
   "source": [
    "red_ppd=pm.sample_posterior_predictive(RED_NOISE_ONLY_TRACE,model=RED_NOISE_ONLY_MODEL)"
   ]
  },
  {
   "cell_type": "code",
   "execution_count": null,
   "id": "periodic-powder",
   "metadata": {},
   "outputs": [],
   "source": [
    "tmp=[plt.plot(t,samp,c=\"k\",lw=.5,alpha=.4) for samp in red_ppd[\"obs\"][:100]]\n",
    "plt.plot(t,gistemp)"
   ]
  },
  {
   "cell_type": "code",
   "execution_count": null,
   "id": "reserved-yacht",
   "metadata": {},
   "outputs": [],
   "source": [
    "TRACE=RED_NOISE_ONLY_TRACE"
   ]
  },
  {
   "cell_type": "code",
   "execution_count": null,
   "id": "utility-encyclopedia",
   "metadata": {},
   "outputs": [],
   "source": [
    "SAMPS={}\n",
    "for x in TRACE.posterior.data_vars:\n",
    "    SAMPS[x]=getattr(TRACE.posterior,x) "
   ]
  },
  {
   "cell_type": "code",
   "execution_count": null,
   "id": "dutch-hello",
   "metadata": {},
   "outputs": [],
   "source": [
    "nchains,ndraws=SAMPS[\"σ_obs\"].shape\n",
    "PLL=np.zeros((nchains,ndraws,nt))\n",
    "for s in range(nchains):\n",
    "    for d in range(ndraws):\n",
    "        mu=0.\n",
    "        sigma=SAMPS[\"σ_obs\"].values[s,d]\n",
    "        phi=SAMPS[\"ϕ\"].values[s,d]\n",
    "        covmatrix=covariance_ar1(sigma,phi,nt)\n",
    "        Cneg1=np.linalg.inv(covmatrix)\n",
    "        g=np.dot(Cneg1,(gistemp-mu))\n",
    "        for n in range(nt):\n",
    "            yi=gistemp[n]\n",
    "            cii=Cneg1[n,n]\n",
    "            gi=g[n]\n",
    "            sigii=Cneg1[n,n]\n",
    "            mui=yi-gi/cii\n",
    "            sigmai=np.sqrt(1/cii)\n",
    "            PLL[s,d,n]=pointwise_loglik(gistemp[n],mui,sigmai)"
   ]
  },
  {
   "cell_type": "code",
   "execution_count": null,
   "id": "pretty-mayor",
   "metadata": {},
   "outputs": [],
   "source": [
    "ALL_PLL[\"red noise only\"]=PLL"
   ]
  },
  {
   "cell_type": "code",
   "execution_count": null,
   "id": "magnetic-fifteen",
   "metadata": {},
   "outputs": [],
   "source": [
    "az.plot_posterior(RED_NOISE_ONLY_TRACE.posterior,var_names=[\"ϕ\"])"
   ]
  },
  {
   "cell_type": "code",
   "execution_count": null,
   "id": "alive-timothy",
   "metadata": {},
   "outputs": [],
   "source": [
    "az.plot_posterior(RED_NOISE_PLUS_FORCED_RESPONSE_TRACE.posterior,var_names=[\"ϕ\"])"
   ]
  },
  {
   "cell_type": "code",
   "execution_count": null,
   "id": "interpreted-sheep",
   "metadata": {},
   "outputs": [],
   "source": [
    "plt.plot(np.average(np.average(ALL_PLL[\"red noise only\"],axis=0),axis=0))\n",
    "plt.plot(np.average(np.average(ALL_PLL[\"red noise with forcing\"],axis=0),axis=0))"
   ]
  },
  {
   "cell_type": "code",
   "execution_count": null,
   "id": "liberal-tiger",
   "metadata": {},
   "outputs": [],
   "source": [
    "tmp=plt.hist(np.sum(ALL_PLL[\"red noise only\"],axis=-1).flatten())\n",
    "tmp=plt.hist(np.sum(ALL_PLL[\"red noise with forcing\"],axis=-1).flatten())"
   ]
  },
  {
   "cell_type": "code",
   "execution_count": null,
   "id": "important-planning",
   "metadata": {},
   "outputs": [],
   "source": [
    "PLL_xr=xr.DataArray(PLL,\\\n",
    "                   coords={\"chain\":range(4),\"draw\":range(1000),\"time\":t},\\\n",
    "                   dims=[\"chain\",\"draw\",\"time\"])\n",
    "TRACE.sample_stats[\"log_likelihood\"]=PLL_xr\n",
    "az.loo(TRACE)"
   ]
  },
  {
   "cell_type": "markdown",
   "id": "subtle-acquisition",
   "metadata": {},
   "source": [
    "## white noise with forcing"
   ]
  },
  {
   "cell_type": "code",
   "execution_count": null,
   "id": "nasty-sucking",
   "metadata": {},
   "outputs": [],
   "source": [
    "TRACE=trace_hist_pic_white"
   ]
  },
  {
   "cell_type": "code",
   "execution_count": null,
   "id": "physical-lancaster",
   "metadata": {},
   "outputs": [],
   "source": [
    "SAMPS={}\n",
    "for x in TRACE.posterior.data_vars:\n",
    "    SAMPS[x]=getattr(TRACE.posterior,x) "
   ]
  },
  {
   "cell_type": "code",
   "execution_count": null,
   "id": "divine-hobby",
   "metadata": {},
   "outputs": [],
   "source": [
    "nchains,ndraws=SAMPS[\"β\"].shape\n",
    "PLL=np.zeros((nchains,ndraws,nt))\n",
    "for s in range(nchains):\n",
    "    for d in range(ndraws):\n",
    "        beta=SAMPS[\"β\"].values[s,d]\n",
    "        F=SAMPS[\"μ\"].values[s,d]\n",
    "        mu=beta*F\n",
    "        sigma=SAMPS[\"σ\"].values[s,d]\n",
    "\n",
    "        invcovmatrix=1/sigma**2*np.identity(nt)\n",
    "        g=np.dot(invcovmatrix,(gistemp-mu))\n",
    "        for n in range(nt):\n",
    "            yi=gistemp[n]\n",
    "            gi=g[n]\n",
    "            sigii=invcovmatrix[n,n]\n",
    "            mui=yi-gi/sigii\n",
    "            sigmai=np.sqrt(1/sigii)\n",
    "            PLL[s,d,n]=pointwise_loglik(gistemp[n],mui,sigmai)"
   ]
  },
  {
   "cell_type": "code",
   "execution_count": null,
   "id": "dental-guyana",
   "metadata": {},
   "outputs": [],
   "source": [
    "PLL_xr=xr.DataArray(PLL,\\\n",
    "                   coords={\"chain\":range(4),\"draw\":range(1000),\"time\":t},\\\n",
    "                   dims=[\"chain\",\"draw\",\"time\"])\n",
    "\n",
    "TRACE.sample_stats[\"log_likelihood\"]=-PLL_xr\n",
    "az.loo(TRACE)"
   ]
  },
  {
   "cell_type": "markdown",
   "id": "chronic-charles",
   "metadata": {},
   "source": [
    "## red noise only"
   ]
  },
  {
   "cell_type": "code",
   "execution_count": null,
   "id": "abandoned-tobacco",
   "metadata": {},
   "outputs": [],
   "source": [
    "SAMPS={}\n",
    "for x in redtrace.posterior.data_vars:\n",
    "    SAMPS[x]=getattr(redtrace.posterior,x) "
   ]
  },
  {
   "cell_type": "code",
   "execution_count": null,
   "id": "lined-kruger",
   "metadata": {},
   "outputs": [],
   "source": [
    "trace_just_noise.posterior"
   ]
  },
  {
   "cell_type": "code",
   "execution_count": null,
   "id": "familiar-boring",
   "metadata": {},
   "outputs": [],
   "source": [
    "nchains,ndraws=SAMPS[\"σ\"].shape\n",
    "PLL=np.zeros((nchains,ndraws,nt))\n",
    "for s in range(nchains):\n",
    "    for d in range(ndraws):\n",
    "\n",
    "        mu=np.zeros(nt)\n",
    "        sigma=SAMPS[\"σ\"].values[s,d]\n",
    "        phi=SAMPS[\"ϕ\"].values[s,d]\n",
    "        covmatrix=covariance_ar1(sigma,phi,nt)\n",
    "        invcovmatrix=np.linalg.inv(covmatrix)\n",
    "        g=np.dot(invcovmatrix,(gistemp-mu))\n",
    "        for n in range(nt):\n",
    "            yi=gistemp[n]\n",
    "            gi=g[n]\n",
    "            sigii=invcovmatrix[n,n]\n",
    "            mui=yi-gi/sigii\n",
    "            sigmai=1/sigii\n",
    "            PLL[s,d,n]=pointwise_loglik(gistemp[n],mui,sigmai)"
   ]
  },
  {
   "cell_type": "code",
   "execution_count": null,
   "id": "joint-official",
   "metadata": {},
   "outputs": [],
   "source": [
    "from scipy.sparse import diags\n",
    "def inv_cov_ar1(phi,sigma,n):\n",
    "\n",
    "  \n",
    "    k = [np.ones(n-1)*-phi,(1+phi**2)*np.ones(n),np.ones(n-1)*-phi]\n",
    "    offset = [-1,0,1]\n",
    "    A = diags(k,offset).toarray()\n",
    "    A[0,0]=1\n",
    "    A[n-1,n-1]=1\n",
    "    return 1/sigma**2*A"
   ]
  },
  {
   "cell_type": "code",
   "execution_count": null,
   "id": "cosmetic-canadian",
   "metadata": {},
   "outputs": [],
   "source": [
    "beta=1.2\n",
    "sigma=0.121\n",
    "phi=0.3\n",
    "F=np.average(GISS_simulations[\"historical\"],axis=0).asma()\n",
    "mu=beta*F\n",
    "plt.plot(np.dot(inv_cov_ar1(phi,sigma,nt),(gistemp-mu))\n"
   ]
  },
  {
   "cell_type": "code",
   "execution_count": null,
   "id": "closed-treasurer",
   "metadata": {},
   "outputs": [],
   "source": [
    "plt.plot(np.dot(inv_cov_ar1(phi,sigma,nt),(gistemp-mu)))"
   ]
  },
  {
   "cell_type": "code",
   "execution_count": null,
   "id": "pleased-edgar",
   "metadata": {},
   "outputs": [],
   "source": [
    "RED_NOISE_ONLY_TRACE.posterior.σ_obs.mean()"
   ]
  },
  {
   "cell_type": "code",
   "execution_count": null,
   "id": "psychological-builder",
   "metadata": {},
   "outputs": [],
   "source": [
    "getattr(RED_NOISE_ONLY_TRACE.posterior,\"ϕ\").mean()"
   ]
  },
  {
   "cell_type": "code",
   "execution_count": null,
   "id": "lined-brake",
   "metadata": {},
   "outputs": [],
   "source": [
    "test=pm.sample_posterior_predictive(RED_NOISE_ONLY_TRACE,model=RED_NOISE_ONLY_MODEL)"
   ]
  },
  {
   "cell_type": "code",
   "execution_count": null,
   "id": "wanted-visibility",
   "metadata": {},
   "outputs": [],
   "source": [
    "tmp=[plt.plot(y,x) for x in test[\"obs\"][-100:]]\n",
    "plt.plot(y,gistemp,c=\"r\",lw=3)"
   ]
  },
  {
   "cell_type": "code",
   "execution_count": null,
   "id": "deadly-harvard",
   "metadata": {},
   "outputs": [],
   "source": [
    "az.plot_posterior(RED_NOISE_ONLY_TRACE,var_names=[\"ϕ\"])"
   ]
  },
  {
   "cell_type": "code",
   "execution_count": null,
   "id": "ceramic-cambridge",
   "metadata": {},
   "outputs": [],
   "source": []
  }
 ],
 "metadata": {
  "kernelspec": {
   "display_name": "Python 3",
   "language": "python",
   "name": "python3"
  },
  "language_info": {
   "codemirror_mode": {
    "name": "ipython",
    "version": 3
   },
   "file_extension": ".py",
   "mimetype": "text/x-python",
   "name": "python",
   "nbconvert_exporter": "python",
   "pygments_lexer": "ipython3",
   "version": "3.9.2"
  }
 },
 "nbformat": 4,
 "nbformat_minor": 5
}
